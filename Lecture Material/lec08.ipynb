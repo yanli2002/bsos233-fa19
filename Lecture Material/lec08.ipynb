{
 "cells": [
  {
   "cell_type": "code",
   "execution_count": 2,
   "metadata": {},
   "outputs": [],
   "source": [
    "from datascience import *\n",
    "import numpy as np\n",
    "\n",
    "%matplotlib inline\n",
    "import matplotlib.pyplot as plots\n",
    "plots.style.use('fivethirtyeight')"
   ]
  },
  {
   "cell_type": "code",
   "execution_count": 34,
   "metadata": {},
   "outputs": [],
   "source": [
    "surv = Table.read_table('BSOS233_survey.csv')"
   ]
  },
  {
   "cell_type": "code",
   "execution_count": 35,
   "metadata": {},
   "outputs": [
    {
     "data": {
      "text/html": [
       "<table border=\"1\" class=\"dataframe\">\n",
       "    <thead>\n",
       "        <tr>\n",
       "            <th>Timestamp</th> <th>What is your major?</th> <th>What is your Year (by credit)?</th> <th>Type of Degree?</th> <th>How much coffee do you drink?</th> <th>How many cups of coffee do you drink per day? (A grande Starbucks coffee is 16 ounces and counts as one cup for this survey)</th> <th>How do you commute to school?</th> <th>When do you normally go to bed?</th> <th>How many hours of sleep do you normally get?</th>\n",
       "        </tr>\n",
       "    </thead>\n",
       "    <tbody>\n",
       "        <tr>\n",
       "            <td>9/3/19 13:30 </td> <td>Hearing and Speech Sciences</td> <td>Senior (91+)                  </td> <td>BA             </td> <td>None                                  </td> <td>0                                                                                                                           </td> <td>Drive a car                  </td> <td>12:00:00 AM                    </td> <td>7                                           </td>\n",
       "        </tr>\n",
       "        <tr>\n",
       "            <td>9/3/19 13:30 </td> <td>Psycology                  </td> <td>Senior (91+)                  </td> <td>BS             </td> <td>Some (3-5 cups of coffee per week)    </td> <td>1.5                                                                                                                         </td> <td>Walk                         </td> <td>12:00:00 AM                    </td> <td>7.5                                         </td>\n",
       "        </tr>\n",
       "        <tr>\n",
       "            <td>9/3/19 13:30 </td> <td>Econ                       </td> <td>Senior (91+)                  </td> <td>BA             </td> <td>A lot (> 5 cups of coffee per week)   </td> <td>6                                                                                                                           </td> <td>Drive a car                  </td> <td>11:30:00 PM                    </td> <td>7.5                                         </td>\n",
       "        </tr>\n",
       "        <tr>\n",
       "            <td>9/3/19 13:30 </td> <td>Criminology                </td> <td>Senior (91+)                  </td> <td>BA             </td> <td>Some (3-5 cups of coffee per week)    </td> <td>0.5                                                                                                                         </td> <td>Walk                         </td> <td>1:00:00 AM                     </td> <td>8                                           </td>\n",
       "        </tr>\n",
       "        <tr>\n",
       "            <td>9/3/19 13:31 </td> <td>Other                      </td> <td>Senior (91+)                  </td> <td>BS             </td> <td>A lot (> 5 cups of coffee per week)   </td> <td>1.5                                                                                                                         </td> <td>Drive a car                  </td> <td>10:30:00 PM                    </td> <td>8                                           </td>\n",
       "        </tr>\n",
       "        <tr>\n",
       "            <td>9/3/19 13:31 </td> <td>GIS                        </td> <td>Senior (91+)                  </td> <td>BS             </td> <td>None                                  </td> <td>0                                                                                                                           </td> <td>Drive a car                  </td> <td>1:30:00 AM                     </td> <td>7                                           </td>\n",
       "        </tr>\n",
       "        <tr>\n",
       "            <td>9/3/19 13:31 </td> <td>Econ, Psycology            </td> <td>Junior (61-90)                </td> <td>BS             </td> <td>A little (< 3 cups of coffee per week)</td> <td>0                                                                                                                           </td> <td>Walk                         </td> <td>2:00:00 AM                     </td> <td>6.5                                         </td>\n",
       "        </tr>\n",
       "        <tr>\n",
       "            <td>9/4/19 16:31 </td> <td>Econ                       </td> <td>Senior (91+)                  </td> <td>BA             </td> <td>A lot (> 5 cups of coffee per week)   </td> <td>1                                                                                                                           </td> <td>Walk                         </td> <td>2:00:00 AM                     </td> <td>5                                           </td>\n",
       "        </tr>\n",
       "        <tr>\n",
       "            <td>9/5/19 13:00 </td> <td>Criminology                </td> <td>Senior (91+)                  </td> <td>BA             </td> <td>Some (3-5 cups of coffee per week)    </td> <td>1                                                                                                                           </td> <td>Bus                          </td> <td>1:00:00 AM                     </td> <td>6.5                                         </td>\n",
       "        </tr>\n",
       "        <tr>\n",
       "            <td>9/5/19 13:03 </td> <td>Psycology                  </td> <td>Senior (91+)                  </td> <td>BA             </td> <td>None                                  </td> <td>0                                                                                                                           </td> <td>Walk                         </td> <td>1:00:00 AM                     </td> <td>6                                           </td>\n",
       "        </tr>\n",
       "        <tr>\n",
       "            <td>9/5/19 13:12 </td> <td>Econ                       </td> <td>Senior (91+)                  </td> <td>BS             </td> <td>Some (3-5 cups of coffee per week)    </td> <td>1                                                                                                                           </td> <td>Walk                         </td> <td>12:00:00 AM                    </td> <td>7                                           </td>\n",
       "        </tr>\n",
       "        <tr>\n",
       "            <td>9/5/19 13:12 </td> <td>Econ                       </td> <td>Senior (91+)                  </td> <td>BA             </td> <td>Some (3-5 cups of coffee per week)    </td> <td>1                                                                                                                           </td> <td>Walk                         </td> <td>1:30:00 AM                     </td> <td>7                                           </td>\n",
       "        </tr>\n",
       "        <tr>\n",
       "            <td>9/5/19 13:12 </td> <td>Econ                       </td> <td>Senior (91+)                  </td> <td>BA             </td> <td>Some (3-5 cups of coffee per week)    </td> <td>0.7                                                                                                                         </td> <td>Metro                        </td> <td>1:00:00 AM                     </td> <td>7                                           </td>\n",
       "        </tr>\n",
       "        <tr>\n",
       "            <td>9/5/19 13:22 </td> <td>Econ                       </td> <td>Senior (91+)                  </td> <td>BA             </td> <td>A lot (> 5 cups of coffee per week)   </td> <td>3                                                                                                                           </td> <td>Drive a car                  </td> <td>11:30:00 PM                    </td> <td>8                                           </td>\n",
       "        </tr>\n",
       "        <tr>\n",
       "            <td>9/5/19 21:03 </td> <td>Criminology                </td> <td>Senior (91+)                  </td> <td>BA             </td> <td>Some (3-5 cups of coffee per week)    </td> <td>1                                                                                                                           </td> <td>Bus                          </td> <td>12:00:00 AM                    </td> <td>6                                           </td>\n",
       "        </tr>\n",
       "        <tr>\n",
       "            <td>9/10/19 13:42</td> <td>Econ                       </td> <td>Senior (91+)                  </td> <td>BA             </td> <td>A little (< 3 cups of coffee per week)</td> <td>1                                                                                                                           </td> <td>Drive a car                  </td> <td>11:00:00 PM                    </td> <td>7.5                                         </td>\n",
       "        </tr>\n",
       "    </tbody>\n",
       "</table>"
      ],
      "text/plain": [
       "<IPython.core.display.HTML object>"
      ]
     },
     "metadata": {},
     "output_type": "display_data"
    }
   ],
   "source": [
    "surv.show()"
   ]
  },
  {
   "cell_type": "code",
   "execution_count": 36,
   "metadata": {},
   "outputs": [],
   "source": [
    "labs = surv.labels\n",
    "new_labs = make_array('Timestamp','Major','Year','Degree','coffee','coffee_per_week','commute','bedtime','hours_of_sleep')\n",
    "cleaned_surv = surv.relabeled(labs, new_labs)"
   ]
  },
  {
   "cell_type": "code",
   "execution_count": 37,
   "metadata": {},
   "outputs": [
    {
     "data": {
      "text/html": [
       "<table border=\"1\" class=\"dataframe\">\n",
       "    <thead>\n",
       "        <tr>\n",
       "            <th>Major</th> <th>count</th>\n",
       "        </tr>\n",
       "    </thead>\n",
       "    <tbody>\n",
       "        <tr>\n",
       "            <td>Criminology                </td> <td>3    </td>\n",
       "        </tr>\n",
       "        <tr>\n",
       "            <td>Econ                       </td> <td>7    </td>\n",
       "        </tr>\n",
       "        <tr>\n",
       "            <td>Econ, Psycology            </td> <td>1    </td>\n",
       "        </tr>\n",
       "        <tr>\n",
       "            <td>GIS                        </td> <td>1    </td>\n",
       "        </tr>\n",
       "        <tr>\n",
       "            <td>Hearing and Speech Sciences</td> <td>1    </td>\n",
       "        </tr>\n",
       "        <tr>\n",
       "            <td>Other                      </td> <td>1    </td>\n",
       "        </tr>\n",
       "        <tr>\n",
       "            <td>Psycology                  </td> <td>2    </td>\n",
       "        </tr>\n",
       "    </tbody>\n",
       "</table>"
      ],
      "text/plain": [
       "Major                       | count\n",
       "Criminology                 | 3\n",
       "Econ                        | 7\n",
       "Econ, Psycology             | 1\n",
       "GIS                         | 1\n",
       "Hearing and Speech Sciences | 1\n",
       "Other                       | 1\n",
       "Psycology                   | 2"
      ]
     },
     "execution_count": 37,
     "metadata": {},
     "output_type": "execute_result"
    }
   ],
   "source": [
    "cleaned_surv.group('Major')"
   ]
  },
  {
   "cell_type": "code",
   "execution_count": 38,
   "metadata": {},
   "outputs": [
    {
     "data": {
      "text/html": [
       "<table border=\"1\" class=\"dataframe\">\n",
       "    <thead>\n",
       "        <tr>\n",
       "            <th>Degree</th> <th>count</th>\n",
       "        </tr>\n",
       "    </thead>\n",
       "    <tbody>\n",
       "        <tr>\n",
       "            <td>BA    </td> <td>11   </td>\n",
       "        </tr>\n",
       "        <tr>\n",
       "            <td>BS    </td> <td>5    </td>\n",
       "        </tr>\n",
       "    </tbody>\n",
       "</table>"
      ],
      "text/plain": [
       "Degree | count\n",
       "BA     | 11\n",
       "BS     | 5"
      ]
     },
     "execution_count": 38,
     "metadata": {},
     "output_type": "execute_result"
    }
   ],
   "source": [
    "cleaned_surv.group('Degree')"
   ]
  },
  {
   "cell_type": "code",
   "execution_count": 39,
   "metadata": {},
   "outputs": [
    {
     "data": {
      "text/html": [
       "<table border=\"1\" class=\"dataframe\">\n",
       "    <thead>\n",
       "        <tr>\n",
       "            <th>Degree</th> <th>coffee_per_week mean</th>\n",
       "        </tr>\n",
       "    </thead>\n",
       "    <tbody>\n",
       "        <tr>\n",
       "            <td>BA    </td> <td>1.38182             </td>\n",
       "        </tr>\n",
       "        <tr>\n",
       "            <td>BS    </td> <td>0.8                 </td>\n",
       "        </tr>\n",
       "    </tbody>\n",
       "</table>"
      ],
      "text/plain": [
       "Degree | coffee_per_week mean\n",
       "BA     | 1.38182\n",
       "BS     | 0.8"
      ]
     },
     "execution_count": 39,
     "metadata": {},
     "output_type": "execute_result"
    }
   ],
   "source": [
    "cleaned_surv.select('Degree','coffee_per_week').group('Degree',collect = np.mean)"
   ]
  },
  {
   "cell_type": "code",
   "execution_count": 40,
   "metadata": {},
   "outputs": [
    {
     "data": {
      "text/html": [
       "<table border=\"1\" class=\"dataframe\">\n",
       "    <thead>\n",
       "        <tr>\n",
       "            <th>coffee</th> <th>BA</th> <th>BS</th>\n",
       "        </tr>\n",
       "    </thead>\n",
       "    <tbody>\n",
       "        <tr>\n",
       "            <td>A little (< 3 cups of coffee per week)</td> <td>1   </td> <td>1   </td>\n",
       "        </tr>\n",
       "        <tr>\n",
       "            <td>A lot (> 5 cups of coffee per week)   </td> <td>3   </td> <td>1   </td>\n",
       "        </tr>\n",
       "        <tr>\n",
       "            <td>None                                  </td> <td>2   </td> <td>1   </td>\n",
       "        </tr>\n",
       "        <tr>\n",
       "            <td>Some (3-5 cups of coffee per week)    </td> <td>5   </td> <td>2   </td>\n",
       "        </tr>\n",
       "    </tbody>\n",
       "</table>"
      ],
      "text/plain": [
       "coffee                                 | BA   | BS\n",
       "A little (< 3 cups of coffee per week) | 1    | 1\n",
       "A lot (> 5 cups of coffee per week)    | 3    | 1\n",
       "None                                   | 2    | 1\n",
       "Some (3-5 cups of coffee per week)     | 5    | 2"
      ]
     },
     "execution_count": 40,
     "metadata": {},
     "output_type": "execute_result"
    }
   ],
   "source": [
    "cleaned_surv.pivot('Degree','coffee')"
   ]
  },
  {
   "cell_type": "code",
   "execution_count": 41,
   "metadata": {},
   "outputs": [
    {
     "data": {
      "image/png": "[encoded data removed]",
      "text/plain": [
       "<Figure size 432x288 with 1 Axes>"
      ]
     },
     "metadata": {},
     "output_type": "display_data"
    }
   ],
   "source": [
    "cleaned_surv.pivot('Degree','coffee').barh('coffee')"
   ]
  },
  {
   "cell_type": "code",
   "execution_count": 42,
   "metadata": {},
   "outputs": [
    {
     "data": {
      "text/html": [
       "<table border=\"1\" class=\"dataframe\">\n",
       "    <thead>\n",
       "        <tr>\n",
       "            <th>commute</th> <th>count</th>\n",
       "        </tr>\n",
       "    </thead>\n",
       "    <tbody>\n",
       "        <tr>\n",
       "            <td>Bus        </td> <td>2    </td>\n",
       "        </tr>\n",
       "        <tr>\n",
       "            <td>Drive a car</td> <td>6    </td>\n",
       "        </tr>\n",
       "        <tr>\n",
       "            <td>Metro      </td> <td>1    </td>\n",
       "        </tr>\n",
       "        <tr>\n",
       "            <td>Walk       </td> <td>7    </td>\n",
       "        </tr>\n",
       "    </tbody>\n",
       "</table>"
      ],
      "text/plain": [
       "commute     | count\n",
       "Bus         | 2\n",
       "Drive a car | 6\n",
       "Metro       | 1\n",
       "Walk        | 7"
      ]
     },
     "execution_count": 42,
     "metadata": {},
     "output_type": "execute_result"
    }
   ],
   "source": [
    "cleaned_surv.group('commute')"
   ]
  },
  {
   "cell_type": "code",
   "execution_count": 43,
   "metadata": {},
   "outputs": [
    {
     "data": {
      "text/html": [
       "<table border=\"1\" class=\"dataframe\">\n",
       "    <thead>\n",
       "        <tr>\n",
       "            <th>coffee</th> <th>Bus</th> <th>Drive a car</th> <th>Metro</th> <th>Walk</th>\n",
       "        </tr>\n",
       "    </thead>\n",
       "    <tbody>\n",
       "        <tr>\n",
       "            <td>A little (< 3 cups of coffee per week)</td> <td>0   </td> <td>1          </td> <td>0    </td> <td>1   </td>\n",
       "        </tr>\n",
       "        <tr>\n",
       "            <td>A lot (> 5 cups of coffee per week)   </td> <td>0   </td> <td>3          </td> <td>0    </td> <td>1   </td>\n",
       "        </tr>\n",
       "        <tr>\n",
       "            <td>None                                  </td> <td>0   </td> <td>2          </td> <td>0    </td> <td>1   </td>\n",
       "        </tr>\n",
       "        <tr>\n",
       "            <td>Some (3-5 cups of coffee per week)    </td> <td>2   </td> <td>0          </td> <td>1    </td> <td>4   </td>\n",
       "        </tr>\n",
       "    </tbody>\n",
       "</table>"
      ],
      "text/plain": [
       "coffee                                 | Bus  | Drive a car | Metro | Walk\n",
       "A little (< 3 cups of coffee per week) | 0    | 1           | 0     | 1\n",
       "A lot (> 5 cups of coffee per week)    | 0    | 3           | 0     | 1\n",
       "None                                   | 0    | 2           | 0     | 1\n",
       "Some (3-5 cups of coffee per week)     | 2    | 0           | 1     | 4"
      ]
     },
     "execution_count": 43,
     "metadata": {},
     "output_type": "execute_result"
    }
   ],
   "source": [
    "cleaned_surv.pivot('commute','coffee')"
   ]
  },
  {
   "cell_type": "code",
   "execution_count": 46,
   "metadata": {},
   "outputs": [
    {
     "data": {
      "text/html": [
       "<table border=\"1\" class=\"dataframe\">\n",
       "    <thead>\n",
       "        <tr>\n",
       "            <th>coffee</th> <th>count</th>\n",
       "        </tr>\n",
       "    </thead>\n",
       "    <tbody>\n",
       "        <tr>\n",
       "            <td>A little (< 3 cups of coffee per week)</td> <td>2    </td>\n",
       "        </tr>\n",
       "        <tr>\n",
       "            <td>A lot (> 5 cups of coffee per week)   </td> <td>4    </td>\n",
       "        </tr>\n",
       "        <tr>\n",
       "            <td>None                                  </td> <td>3    </td>\n",
       "        </tr>\n",
       "        <tr>\n",
       "            <td>Some (3-5 cups of coffee per week)    </td> <td>7    </td>\n",
       "        </tr>\n",
       "    </tbody>\n",
       "</table>"
      ],
      "text/plain": [
       "coffee                                 | count\n",
       "A little (< 3 cups of coffee per week) | 2\n",
       "A lot (> 5 cups of coffee per week)    | 4\n",
       "None                                   | 3\n",
       "Some (3-5 cups of coffee per week)     | 7"
      ]
     },
     "execution_count": 46,
     "metadata": {},
     "output_type": "execute_result"
    }
   ],
   "source": [
    "cleaned_surv.select('coffee','hours_of_sleep').group('coffee')"
   ]
  },
  {
   "cell_type": "code",
   "execution_count": 45,
   "metadata": {},
   "outputs": [
    {
     "data": {
      "text/html": [
       "<table border=\"1\" class=\"dataframe\">\n",
       "    <thead>\n",
       "        <tr>\n",
       "            <th>coffee</th> <th>hours_of_sleep mean</th>\n",
       "        </tr>\n",
       "    </thead>\n",
       "    <tbody>\n",
       "        <tr>\n",
       "            <td>A little (< 3 cups of coffee per week)</td> <td>7                  </td>\n",
       "        </tr>\n",
       "        <tr>\n",
       "            <td>A lot (> 5 cups of coffee per week)   </td> <td>7.125              </td>\n",
       "        </tr>\n",
       "        <tr>\n",
       "            <td>None                                  </td> <td>6.66667            </td>\n",
       "        </tr>\n",
       "        <tr>\n",
       "            <td>Some (3-5 cups of coffee per week)    </td> <td>7                  </td>\n",
       "        </tr>\n",
       "    </tbody>\n",
       "</table>"
      ],
      "text/plain": [
       "coffee                                 | hours_of_sleep mean\n",
       "A little (< 3 cups of coffee per week) | 7\n",
       "A lot (> 5 cups of coffee per week)    | 7.125\n",
       "None                                   | 6.66667\n",
       "Some (3-5 cups of coffee per week)     | 7"
      ]
     },
     "execution_count": 45,
     "metadata": {},
     "output_type": "execute_result"
    }
   ],
   "source": [
    "cleaned_surv.select('coffee','hours_of_sleep').group('coffee',collect = np.mean)"
   ]
  },
  {
   "cell_type": "code",
   "execution_count": 47,
   "metadata": {},
   "outputs": [
    {
     "data": {
      "text/html": [
       "<table border=\"1\" class=\"dataframe\">\n",
       "    <thead>\n",
       "        <tr>\n",
       "            <th>Degree</th> <th>hours_of_sleep mean</th>\n",
       "        </tr>\n",
       "    </thead>\n",
       "    <tbody>\n",
       "        <tr>\n",
       "            <td>BA    </td> <td>6.86364            </td>\n",
       "        </tr>\n",
       "        <tr>\n",
       "            <td>BS    </td> <td>7.2                </td>\n",
       "        </tr>\n",
       "    </tbody>\n",
       "</table>"
      ],
      "text/plain": [
       "Degree | hours_of_sleep mean\n",
       "BA     | 6.86364\n",
       "BS     | 7.2"
      ]
     },
     "execution_count": 47,
     "metadata": {},
     "output_type": "execute_result"
    }
   ],
   "source": [
    "cleaned_surv.select('Degree','hours_of_sleep').group('Degree',collect = np.mean)"
   ]
  },
  {
   "cell_type": "code",
   "execution_count": null,
   "metadata": {},
   "outputs": [],
   "source": []
  }
 ],
 "metadata": {
  "kernelspec": {
   "display_name": "Python 3",
   "language": "python",
   "name": "python3"
  },
  "language_info": {
   "codemirror_mode": {
    "name": "ipython",
    "version": 3
   },
   "file_extension": ".py",
   "mimetype": "text/x-python",
   "name": "python",
   "nbconvert_exporter": "python",
   "pygments_lexer": "ipython3",
   "version": "3.7.2"
  }
 },
 "nbformat": 4,
 "nbformat_minor": 2
}
