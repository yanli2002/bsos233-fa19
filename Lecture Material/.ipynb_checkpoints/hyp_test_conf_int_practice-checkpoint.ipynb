{
 "cells": [
  {
   "cell_type": "markdown",
   "metadata": {},
   "source": [
    "# Hypothesis Testing and Confidence Intervals Practice Problems\n",
    "\n",
    "These practice problems cover **Chapters 11-13** from the textbook as well as lecture material from Weeks 7-8. "
   ]
  },
  {
   "cell_type": "code",
   "execution_count": 1,
   "metadata": {},
   "outputs": [],
   "source": [
    "import numpy as np\n",
    "from datascience import *\n",
    "\n",
    "\n",
    "# These lines do some fancy plotting magic.\n",
    "import matplotlib\n",
    "%matplotlib inline\n",
    "import matplotlib.pyplot as plots\n",
    "\n",
    "# This is if you want your plots to have the FiveThirtyEight style\n",
    "plots.style.use('fivethirtyeight')"
   ]
  },
  {
   "cell_type": "markdown",
   "metadata": {},
   "source": [
    "### Question 1. Testing Dice\n"
   ]
  },
  {
   "cell_type": "markdown",
   "metadata": {},
   "source": [
    "Students in a data science class want to figure out whether a six-sided die is fair or not. On a fair die, each face of the die appears with chance 1/6 on each roll, regardless of the results of other rolls.  Otherwise, a die is called unfair.  We can describe a die by the probability of landing on each face.  This table describes an example of a die that is unfairly weighted toward 1:\n",
    "\n",
    "|Face|Probability|\n",
    "|-|-|\n",
    "|1|.5|\n",
    "|2|.1|\n",
    "|3|.1|\n",
    "|4|.1|\n",
    "|5|.1|\n",
    "|6|.1|"
   ]
  },
  {
   "cell_type": "markdown",
   "metadata": {},
   "source": [
    "##### a) Define a null hypothesis and an alternative hypothesis to test whether a six-sided die is fair or not. \n",
    "\n",
    "*Hint:* Remember that an unfair die is one for which each face does not have an equal chance of appearing."
   ]
  },
  {
   "cell_type": "markdown",
   "metadata": {},
   "source": [
    "We decide to test the die by rolling it 5 times. The proportions of the 6 faces in these 5 rolls are stored in a table with 6 rows.  For example, here is the table we'd make if the die rolls ended up being 1, 2, 3, 3, and 5:\n",
    "\n",
    "|Face|Proportion|\n",
    "|-|-|\n",
    "|1|.2|\n",
    "|2|.2|\n",
    "|3|.4|\n",
    "|4|.0|\n",
    "|5|.2|\n",
    "|6|.0|\n",
    "\n",
    "The function `mystery_test_statistic`, defined below, takes a single table like this as its argument and returns a number (which we will use as a test statistic)."
   ]
  },
  {
   "cell_type": "code",
   "execution_count": 9,
   "metadata": {},
   "outputs": [],
   "source": [
    "# Note: We've intentionally used unhelpful function and\n",
    "# variable names to avoid giving away answers.  It's rarely\n",
    "# a good idea to use names like \"x\" in your code.\n",
    "\n",
    "def mystery_test_statistic(sample):\n",
    "    x = np.ones(1) * (1/6)\n",
    "    y = (sample.column('Proportion') - x)\n",
    "    return np.mean(y**2)"
   ]
  },
  {
   "cell_type": "markdown",
   "metadata": {},
   "source": [
    "##### b)  Describe in English what the test statistic is.  Is it equivalent to the total variation distance between the observed face distribution and the fair die distribution?"
   ]
  },
  {
   "cell_type": "markdown",
   "metadata": {},
   "source": [
    "The function `simulate_observations_and_test` takes as its argument a table describing the probability distribution of a die.  It simulates one set of 5 rolls of that die, then tests the null hypothesis about that die using our test statistic function above.  It returns `False` if it *rejects* the null hypothesis about the die, and `True` otherwise."
   ]
  },
  {
   "cell_type": "code",
   "execution_count": 10,
   "metadata": {},
   "outputs": [],
   "source": [
    "# The probability distribution table for a fair die:\n",
    "fair_die = Table().with_columns(\n",
    "        \"Face\", np.arange(1, 6+1),\n",
    "        \"Probability\", [1/6, 1/6, 1/6, 1/6, 1/6, 1/6])\n",
    "\n",
    "def simulate_observations_and_test(actual_die):\n",
    "    \"\"\"\n",
    "    Simulates die rolls from actual_die and tests the hypothesis that the die is fair.\n",
    "    \n",
    "    Returns False if that hypothesis is rejected, and True otherwise.\n",
    "    \n",
    "    \"\"\"\n",
    "    \n",
    "    sample_size = 5\n",
    "    p_value_cutoff = .2\n",
    "    num_simulations = 250\n",
    "    \n",
    "    # Compute the observed value of the test statistic.\n",
    "    observation_set = sample_proportions(sample_size, actual_die.column(\"Probability\"))\n",
    "    observation_props_table = Table().with_column('Face', actual_die.column('Face'), 'Proportion', observation_set)\n",
    "    observed_statistic = mystery_test_statistic(observation_props_table)\n",
    "    \n",
    "    # Simulate the test statistic repeatedly to get an \n",
    "    # approximation to the probability distribution of \n",
    "    # the test statistic, as predicted by the model in \n",
    "    # the null hypothesis. Store the simulated values \n",
    "    # of the test statistic in an array.\n",
    "    simulated_statistics = make_array()\n",
    "    for _ in np.arange(num_simulations):\n",
    "        one_observation_set_under_null = sample_proportions(sample_size, fair_die.column(\"Probability\"))\n",
    "        simulated_props_table = Table().with_column('Face', fair_die.column('Face'), 'Proportion', one_observation_set_under_null)\n",
    "        simulated_statistic = mystery_test_statistic(simulated_props_table)\n",
    "        simulated_statistics = np.append(simulated_statistics, simulated_statistic)\n",
    "        \n",
    "    # Compute the P-value\n",
    "    p_value = np.count_nonzero(simulated_statistics >= observed_statistic) / num_simulations\n",
    "    \n",
    "    # If the P-value is below the cutoff, reject the \n",
    "    # null hypothesis and return False. Otherwise, \n",
    "    # return True.\n",
    "    return p_value >= p_value_cutoff\n",
    "\n",
    "# Calling the function to simulate a test of a fair die:\n",
    "simulate_observations_and_test(fair_die)"
   ]
  },
  {
   "cell_type": "markdown",
   "metadata": {},
   "source": [
    "##### c) Use your knowledge of hypothesis tests and interpretation of the code above to determine the probability that `simulate_observations_and_test` returns `False` when its argument is `fair_die` (which is defined above the function). In other words, what is the chance that we reject the null hypothesis if the die is actually fair? Justify your answer.\n",
    "\n",
    "*Note:* You can call the function a few times to see what it does, but **don't** perform a simulation to determine this probability.  Use your knowledge of hypothesis tests. You shouldn't have to write any code to answer this question."
   ]
  },
  {
   "cell_type": "markdown",
   "metadata": {},
   "source": [
    "##### d) Simulate the process of running `simulate_observations_and_test` 300 times. Assign `test_results` to an array that stores the result of each of these trials.\n",
    "\n",
    "**Note:** This will be a little slow. 300 repetitions of the simulation should require a minute or so of computation, and should suffice to get an answer that's roughly correct."
   ]
  },
  {
   "cell_type": "markdown",
   "metadata": {},
   "source": [
    "##### e) Verify your answer to part d) by computing an approximate probability that `simulation_observations_and_test` returns `False`."
   ]
  },
  {
   "cell_type": "markdown",
   "metadata": {},
   "source": [
    "##### f) From the perspective of someone who wants to know the truth about the die, is it good or bad for the function to return `False` when its argument is `fair_die`? Why is it good or bad?"
   ]
  },
  {
   "cell_type": "markdown",
   "metadata": {},
   "source": [
    "### Question 2. 50 Die Rolls\n",
    "\n",
    "Recall from Assignment 3 that we simulated rolling a die 50 times and calculating the mean outcome. In this question, we will simulate one trial of 50 die rolls, then use bootstrapping to construct a confidence interval. That is, instead of repeatedly simulating the 50 die rolls many times, we will simply simulate one trial of 50 die rolls and treat that as our sample. We will then use bootstrapping to generate a confidence interval."
   ]
  },
  {
   "cell_type": "markdown",
   "metadata": {},
   "source": [
    "**a)** Simulate a sample of 50 die rolls. Store this inside an array called `die_rolls`. Find the mean of your 50 die rolls. "
   ]
  },
  {
   "cell_type": "markdown",
   "metadata": {},
   "source": [
    "**b)** Write a function called `boot_mean` that generates bootstrap samples and calculates the mean for each sample. Generate 5000 bootstrap samples using this function and store the results in `die_means`. \n",
    "\n",
    "*Hint:* You can re-use the `bootstrap_means` function from **Chapter 13.3**, but you'll have to adjust it. Alternatively, you can just write your own code from scratch to do this."
   ]
  },
  {
   "cell_type": "markdown",
   "metadata": {},
   "source": [
    "**c)** Using 5000 bootstrap samples, calculate a 90% confidence interval."
   ]
  },
  {
   "cell_type": "markdown",
   "metadata": {},
   "source": [
    "**d)** Graph the 5000 bootstrap samples in a histogram and show the confidence interval."
   ]
  },
  {
   "cell_type": "markdown",
   "metadata": {},
   "source": [
    "**e)** Interpret your bootstrap confidence interval. In words, what does this confidence interval tell you about the true mean of all die rolls? "
   ]
  }
 ],
 "metadata": {
  "kernelspec": {
   "display_name": "Python 3",
   "language": "python",
   "name": "python3"
  },
  "language_info": {
   "codemirror_mode": {
    "name": "ipython",
    "version": 3
   },
   "file_extension": ".py",
   "mimetype": "text/x-python",
   "name": "python",
   "nbconvert_exporter": "python",
   "pygments_lexer": "ipython3",
   "version": "3.7.3"
  },
  "toc": {
   "base_numbering": 1,
   "nav_menu": {},
   "number_sections": false,
   "sideBar": false,
   "skip_h1_title": false,
   "title_cell": "Table of Contents",
   "title_sidebar": "Contents",
   "toc_cell": false,
   "toc_position": {},
   "toc_section_display": false,
   "toc_window_display": false
  }
 },
 "nbformat": 4,
 "nbformat_minor": 4
}
