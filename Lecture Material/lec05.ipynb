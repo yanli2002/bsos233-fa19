{
 "cells": [
  {
   "cell_type": "code",
   "execution_count": null,
   "metadata": {},
   "outputs": [],
   "source": [
    "import numpy as np\n",
    "from datascience import *\n",
    "\n",
    "\n",
    "# These lines do some fancy plotting magic.\n",
    "import matplotlib\n",
    "%matplotlib inline\n",
    "import matplotlib.pyplot as plots\n",
    "\n",
    "# This is if you want your plots to have the FiveThirtyEight style\n",
    "plots.style.use('fivethirtyeight')\n",
    "\n",
    "def percents(array_x):\n",
    "    return np.round( (array_x/sum(array_x))*100, 2)\n",
    "def proportions(array_x):\n",
    "    return np.round( (array_x/sum(array_x)), 2)"
   ]
  },
  {
   "cell_type": "code",
   "execution_count": null,
   "metadata": {},
   "outputs": [],
   "source": [
    "cah = Table.read_table('201709-CAH_PulseOfTheNation.csv')"
   ]
  },
  {
   "cell_type": "code",
   "execution_count": null,
   "metadata": {},
   "outputs": [],
   "source": [
    "cah.labels"
   ]
  },
  {
   "cell_type": "code",
   "execution_count": null,
   "metadata": {},
   "outputs": [],
   "source": [
    "pol_table = cah.group('Political Affiliation')"
   ]
  },
  {
   "cell_type": "code",
   "execution_count": null,
   "metadata": {},
   "outputs": [],
   "source": [
    "labels = pol_table.labels\n",
    "\n",
    "pol_per = Table().with_columns(labels[0], pol_table.column(0),\n",
    "                               'Count', pol_table.column(1),\n",
    "                               'Proportion',proportions(pol_table.column(1)))"
   ]
  },
  {
   "cell_type": "code",
   "execution_count": null,
   "metadata": {},
   "outputs": [],
   "source": [
    "pol_per"
   ]
  },
  {
   "cell_type": "code",
   "execution_count": null,
   "metadata": {},
   "outputs": [],
   "source": [
    "fund_pol = cah.pivot('Political Affiliation', 'Is federal funding of scientific research too high, too low, or about right?')"
   ]
  },
  {
   "cell_type": "code",
   "execution_count": null,
   "metadata": {},
   "outputs": [],
   "source": [
    "fund_pol.relabeled('Is federal funding of scientific research too high, too low, or about right?', 'Federal Funding of Scientific Research')"
   ]
  },
  {
   "cell_type": "code",
   "execution_count": null,
   "metadata": {},
   "outputs": [],
   "source": [
    "labels = fund_pol.labels\n",
    "\n",
    "col_per = Table().with_columns(labels[0], fund_pol.column(0),\n",
    "                               labels[1],proportions(fund_pol.column(1)),\n",
    "                              labels[2], proportions(fund_pol.column(2)),\n",
    "                              labels[3], proportions(fund_pol.column(3)),\n",
    "                              labels[4], proportions(fund_pol.column(4)))"
   ]
  },
  {
   "cell_type": "code",
   "execution_count": null,
   "metadata": {},
   "outputs": [],
   "source": [
    "col_per = col_per.relabeled('Is federal funding of scientific research too high, too low, or about right?', \n",
    "                  'Federal Funding of Scientific Research')"
   ]
  },
  {
   "cell_type": "code",
   "execution_count": null,
   "metadata": {},
   "outputs": [],
   "source": [
    "col_per.barh('Federal Funding of Scientific Research')"
   ]
  },
  {
   "cell_type": "code",
   "execution_count": null,
   "metadata": {},
   "outputs": [],
   "source": [
    "cah.select('Political Affiliation','Age').group('Political Affiliation',np.mean).join('Political Affiliation',\n",
    "                                                                                     cah.select('Political Affiliation','Age').group('Political Affiliation',np.std),\n",
    "                                                                                     'Political Affiliation')"
   ]
  },
  {
   "cell_type": "code",
   "execution_count": null,
   "metadata": {},
   "outputs": [],
   "source": []
  }
 ],
 "metadata": {
  "kernelspec": {
   "display_name": "Python 3",
   "language": "python",
   "name": "python3"
  },
  "language_info": {
   "codemirror_mode": {
    "name": "ipython",
    "version": 3
   },
   "file_extension": ".py",
   "mimetype": "text/x-python",
   "name": "python",
   "nbconvert_exporter": "python",
   "pygments_lexer": "ipython3",
   "version": "3.7.2"
  }
 },
 "nbformat": 4,
 "nbformat_minor": 2
}
