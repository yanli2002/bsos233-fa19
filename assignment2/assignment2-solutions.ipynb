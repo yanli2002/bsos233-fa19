{
 "cells": [
  {
   "cell_type": "markdown",
   "metadata": {},
   "source": [
    "# Assignment 2: Exploratory Data Analysis - Solutions\n",
    "\n",
    "This assignment covers **Chapters 7, 8 and 14.1-14.2 (Up to but not including Chebychev’s Bounds)** from the textbook as well as lecture material from Weeks 3-4. Please complete this assignment by providing answers in cells after the question. Use **Code** cells to write and run any code you need to answer the question and **Markdown** cells to write out answers in words. After you are finished with the assignment, remember to download it as an **HTML file** and submit it in **ELMS**.\n",
    "\n",
    "Revisions are due by **11:59pm on Friday, September 27**."
   ]
  },
  {
   "cell_type": "code",
   "execution_count": 1,
   "metadata": {},
   "outputs": [],
   "source": [
    "import numpy as np\n",
    "from datascience import *\n",
    "\n",
    "\n",
    "# These lines do some fancy plotting magic.\n",
    "import matplotlib\n",
    "%matplotlib inline\n",
    "import matplotlib.pyplot as plots\n",
    "\n",
    "# This is if you want your plots to have the FiveThirtyEight style\n",
    "plots.style.use('fivethirtyeight')"
   ]
  },
  {
   "cell_type": "markdown",
   "metadata": {},
   "source": [
    "### Question 1. Unemployment\n",
    "\n",
    "The Federal Reserve Bank of St. Louis publishes data about jobs in the US.  Below, we've loaded data on unemployment in the United States. There are many ways of defining unemployment, and our dataset includes two notions of the unemployment rate:\n",
    "\n",
    "1. Among people who are able to work and are looking for a full-time job, the percentage who can't find a job.  This is called the Non-Employment Index, or NEI.\n",
    "2. Among people who are able to work and are looking for a full-time job, the percentage who can't find any job *or* are only working at a part-time job.  The latter group is called \"Part-Time for Economic Reasons\", so the acronym for this index is NEI-PTER.  (Economists are great at marketing.)\n",
    "\n",
    "The source of the data is [here](https://fred.stlouisfed.org/categories/33509)."
   ]
  },
  {
   "cell_type": "markdown",
   "metadata": {},
   "source": [
    "**a) The data are in a CSV file called `unemployment.csv`.  Load that file into a table called `unemployment`.**"
   ]
  },
  {
   "cell_type": "code",
   "execution_count": 2,
   "metadata": {},
   "outputs": [],
   "source": [
    "unemployment = Table.read_table(\"unemployment.csv\")"
   ]
  },
  {
   "cell_type": "markdown",
   "metadata": {},
   "source": [
    "We'll also take a quick look at the table to get a sense for what it looks like."
   ]
  },
  {
   "cell_type": "code",
   "execution_count": 3,
   "metadata": {},
   "outputs": [
    {
     "data": {
      "text/html": [
       "<table border=\"1\" class=\"dataframe\">\n",
       "    <thead>\n",
       "        <tr>\n",
       "            <th>Date</th> <th>NEI</th> <th>NEI-PTER</th>\n",
       "        </tr>\n",
       "    </thead>\n",
       "    <tbody>\n",
       "        <tr>\n",
       "            <td>1994-01-01</td> <td>10.0974</td> <td>11.172  </td>\n",
       "        </tr>\n",
       "        <tr>\n",
       "            <td>1994-04-01</td> <td>9.6239 </td> <td>10.7883 </td>\n",
       "        </tr>\n",
       "        <tr>\n",
       "            <td>1994-07-01</td> <td>9.3276 </td> <td>10.4831 </td>\n",
       "        </tr>\n",
       "        <tr>\n",
       "            <td>1994-10-01</td> <td>9.1071 </td> <td>10.2361 </td>\n",
       "        </tr>\n",
       "        <tr>\n",
       "            <td>1995-01-01</td> <td>8.9693 </td> <td>10.1832 </td>\n",
       "        </tr>\n",
       "    </tbody>\n",
       "</table>\n",
       "<p>... (85 rows omitted)</p>"
      ],
      "text/plain": [
       "<IPython.core.display.HTML object>"
      ]
     },
     "metadata": {},
     "output_type": "display_data"
    }
   ],
   "source": [
    "unemployment.labels\n",
    "unemployment.show(5)"
   ]
  },
  {
   "cell_type": "markdown",
   "metadata": {},
   "source": [
    "**b) It's believed that many people became PTER (recall: \"Part-Time for Economic Reasons\") in the \"Great Recession\" of 2008-2009.  NEI-PTER is the percentage of people who are unemployed (and counted in the NEI) plus the percentage of people who are PTER.  Compute an array containing the percentage of people who were PTER in each quarter.  (The first element of the array should correspond to the first row of `unemployment`, and so on.) Call the array `pter`.**"
   ]
  },
  {
   "cell_type": "markdown",
   "metadata": {},
   "source": [
    "> Note that `unemployment.column()` returns an array. This means that we can extract out the columns as arrays, then use array subtraction to get the PTER array. "
   ]
  },
  {
   "cell_type": "code",
   "execution_count": 4,
   "metadata": {},
   "outputs": [],
   "source": [
    "pter = unemployment.column(\"NEI-PTER\")-unemployment.column(\"NEI\")"
   ]
  },
  {
   "cell_type": "markdown",
   "metadata": {},
   "source": [
    "**c) Add `pter` as a column to `unemployment` (named \"PTER\") and sort the resulting table by that column in descending order.  Call this new table `by_pter`.**"
   ]
  },
  {
   "cell_type": "markdown",
   "metadata": {},
   "source": [
    "> Below, we've done this in one step, using `with_column()` to add the PTER column, then using `sort()` to sort by that column. You can also do it in multiple steps. "
   ]
  },
  {
   "cell_type": "code",
   "execution_count": 5,
   "metadata": {},
   "outputs": [
    {
     "data": {
      "text/html": [
       "<table border=\"1\" class=\"dataframe\">\n",
       "    <thead>\n",
       "        <tr>\n",
       "            <th>Date</th> <th>NEI</th> <th>NEI-PTER</th> <th>PTER</th>\n",
       "        </tr>\n",
       "    </thead>\n",
       "    <tbody>\n",
       "        <tr>\n",
       "            <td>2009-07-01</td> <td>10.8089</td> <td>12.7404 </td> <td>1.9315</td>\n",
       "        </tr>\n",
       "        <tr>\n",
       "            <td>2010-04-01</td> <td>10.6597</td> <td>12.5664 </td> <td>1.9067</td>\n",
       "        </tr>\n",
       "        <tr>\n",
       "            <td>2009-10-01</td> <td>10.9698</td> <td>12.8557 </td> <td>1.8859</td>\n",
       "        </tr>\n",
       "        <tr>\n",
       "            <td>2010-10-01</td> <td>10.5856</td> <td>12.4329 </td> <td>1.8473</td>\n",
       "        </tr>\n",
       "        <tr>\n",
       "            <td>2009-04-01</td> <td>10.7082</td> <td>12.5497 </td> <td>1.8415</td>\n",
       "        </tr>\n",
       "        <tr>\n",
       "            <td>2010-07-01</td> <td>10.5521</td> <td>12.3897 </td> <td>1.8376</td>\n",
       "        </tr>\n",
       "        <tr>\n",
       "            <td>2010-01-01</td> <td>10.9054</td> <td>12.7311 </td> <td>1.8257</td>\n",
       "        </tr>\n",
       "        <tr>\n",
       "            <td>2011-04-01</td> <td>10.4409</td> <td>12.247  </td> <td>1.8061</td>\n",
       "        </tr>\n",
       "        <tr>\n",
       "            <td>2011-01-01</td> <td>10.5024</td> <td>12.3017 </td> <td>1.7993</td>\n",
       "        </tr>\n",
       "        <tr>\n",
       "            <td>2011-10-01</td> <td>10.3287</td> <td>12.1214 </td> <td>1.7927</td>\n",
       "        </tr>\n",
       "    </tbody>\n",
       "</table>\n",
       "<p>... (80 rows omitted)</p>"
      ],
      "text/plain": [
       "Date       | NEI     | NEI-PTER | PTER\n",
       "2009-07-01 | 10.8089 | 12.7404  | 1.9315\n",
       "2010-04-01 | 10.6597 | 12.5664  | 1.9067\n",
       "2009-10-01 | 10.9698 | 12.8557  | 1.8859\n",
       "2010-10-01 | 10.5856 | 12.4329  | 1.8473\n",
       "2009-04-01 | 10.7082 | 12.5497  | 1.8415\n",
       "2010-07-01 | 10.5521 | 12.3897  | 1.8376\n",
       "2010-01-01 | 10.9054 | 12.7311  | 1.8257\n",
       "2011-04-01 | 10.4409 | 12.247   | 1.8061\n",
       "2011-01-01 | 10.5024 | 12.3017  | 1.7993\n",
       "2011-10-01 | 10.3287 | 12.1214  | 1.7927\n",
       "... (80 rows omitted)"
      ]
     },
     "execution_count": 5,
     "metadata": {},
     "output_type": "execute_result"
    }
   ],
   "source": [
    "by_pter=unemployment.with_column(\"PTER\",pter).sort(\"PTER\", descending=True)\n",
    "by_pter"
   ]
  },
  {
   "cell_type": "markdown",
   "metadata": {},
   "source": [
    "**d) We want to create a line plot of the PTER over time. To do this, we first add a `year` array and the `pter` array to the `unemployment` table labeled `Year` and `PTER`, respectively. Use the code below to create `pter_over_time`.**"
   ]
  },
  {
   "cell_type": "code",
   "execution_count": 6,
   "metadata": {},
   "outputs": [],
   "source": [
    "# Make sure your previous sections have created by_pter and pter properly for this to work!\n",
    "year = 1994 + np.arange(by_pter.num_rows)/4\n",
    "pter_over_time = unemployment.with_columns('Year', year,'PTER',pter)"
   ]
  },
  {
   "cell_type": "markdown",
   "metadata": {},
   "source": [
    "Create a line plot using `pter_over_time`."
   ]
  },
  {
   "cell_type": "code",
   "execution_count": 7,
   "metadata": {},
   "outputs": [
    {
     "data": {
      "image/png": "[encoded data removed]",
      "text/plain": [
       "<Figure size 432x288 with 1 Axes>"
      ]
     },
     "metadata": {},
     "output_type": "display_data"
    }
   ],
   "source": [
    "data_line=pter_over_time.select('Year','PTER')\n",
    "data_line.plot('Year')"
   ]
  },
  {
   "cell_type": "markdown",
   "metadata": {},
   "source": [
    "**e) Were PTER rates high during or directly after the Great Recession (that is to say, were PTER rates particularly high in the years 2008 through 2011)?**"
   ]
  },
  {
   "cell_type": "markdown",
   "metadata": {},
   "source": [
    "The visualization shows PTER around 0.8 to 1.2 for most of the yers preceeding 2008. Around 2008, it then shoots up to around 1.8, before falling back down below 1.8 around 2011. It does seem to be the case that PTER rates were particularly high during or directly after the Great Recession."
   ]
  },
  {
   "cell_type": "markdown",
   "metadata": {},
   "source": [
    "### Question 2. Causes of Death by Year\n",
    "\n",
    "This exercise is designed to give you practice using the Table method `pivot`. [Here](http://data8.org/sp19/python-reference.html) is a link to the Python reference page in case you need a quick refresher.\n",
    "\n",
    "We'll be looking at a [dataset](http://www.healthdata.gov/dataset/leading-causes-death-zip-code-1999-2013) from the California Department of Public Health that records the cause of death, as recorded on a death certificate, for everyone who died in California from 1999 to 2013.  The data is in the file `causes_of_death.csv`. Each row records the number of deaths by a specific cause in one year in one ZIP code."
   ]
  },
  {
   "cell_type": "code",
   "execution_count": 8,
   "metadata": {},
   "outputs": [
    {
     "data": {
      "text/html": [
       "<table border=\"1\" class=\"dataframe\">\n",
       "    <thead>\n",
       "        <tr>\n",
       "            <th>Year</th> <th>ZIP Code</th> <th>Cause of Death</th> <th>Count</th> <th>Location </th>\n",
       "        </tr>\n",
       "    </thead>\n",
       "    <tbody>\n",
       "        <tr>\n",
       "            <td>1999</td> <td>90002   </td> <td>SUI           </td> <td>1    </td> <td>(33.94969, -118.246213) </td>\n",
       "        </tr>\n",
       "        <tr>\n",
       "            <td>1999</td> <td>90005   </td> <td>HOM           </td> <td>1    </td> <td>(34.058508, -118.301197)</td>\n",
       "        </tr>\n",
       "        <tr>\n",
       "            <td>1999</td> <td>90006   </td> <td>ALZ           </td> <td>1    </td> <td>(34.049323, -118.291687)</td>\n",
       "        </tr>\n",
       "        <tr>\n",
       "            <td>1999</td> <td>90007   </td> <td>ALZ           </td> <td>1    </td> <td>(34.029442, -118.287095)</td>\n",
       "        </tr>\n",
       "        <tr>\n",
       "            <td>1999</td> <td>90009   </td> <td>DIA           </td> <td>1    </td> <td>(33.9452, -118.3832)    </td>\n",
       "        </tr>\n",
       "        <tr>\n",
       "            <td>1999</td> <td>90009   </td> <td>LIV           </td> <td>1    </td> <td>(33.9452, -118.3832)    </td>\n",
       "        </tr>\n",
       "        <tr>\n",
       "            <td>1999</td> <td>90009   </td> <td>OTH           </td> <td>1    </td> <td>(33.9452, -118.3832)    </td>\n",
       "        </tr>\n",
       "        <tr>\n",
       "            <td>1999</td> <td>90010   </td> <td>STK           </td> <td>1    </td> <td>(34.060633, -118.302664)</td>\n",
       "        </tr>\n",
       "        <tr>\n",
       "            <td>1999</td> <td>90010   </td> <td>CLD           </td> <td>1    </td> <td>(34.060633, -118.302664)</td>\n",
       "        </tr>\n",
       "        <tr>\n",
       "            <td>1999</td> <td>90010   </td> <td>DIA           </td> <td>1    </td> <td>(34.060633, -118.302664)</td>\n",
       "        </tr>\n",
       "    </tbody>\n",
       "</table>\n",
       "<p>... (320142 rows omitted)</p>"
      ],
      "text/plain": [
       "Year | ZIP Code | Cause of Death | Count | Location\n",
       "1999 | 90002    | SUI            | 1     | (33.94969, -118.246213)\n",
       "1999 | 90005    | HOM            | 1     | (34.058508, -118.301197)\n",
       "1999 | 90006    | ALZ            | 1     | (34.049323, -118.291687)\n",
       "1999 | 90007    | ALZ            | 1     | (34.029442, -118.287095)\n",
       "1999 | 90009    | DIA            | 1     | (33.9452, -118.3832)\n",
       "1999 | 90009    | LIV            | 1     | (33.9452, -118.3832)\n",
       "1999 | 90009    | OTH            | 1     | (33.9452, -118.3832)\n",
       "1999 | 90010    | STK            | 1     | (34.060633, -118.302664)\n",
       "1999 | 90010    | CLD            | 1     | (34.060633, -118.302664)\n",
       "1999 | 90010    | DIA            | 1     | (34.060633, -118.302664)\n",
       "... (320142 rows omitted)"
      ]
     },
     "execution_count": 8,
     "metadata": {},
     "output_type": "execute_result"
    }
   ],
   "source": [
    "causes = Table.read_table('causes_of_death.csv')\n",
    "causes"
   ]
  },
  {
   "cell_type": "markdown",
   "metadata": {},
   "source": [
    "The causes of death in the data are abbreviated.  We've provided a table called `abbreviations.csv` to translate the abbreviations."
   ]
  },
  {
   "cell_type": "code",
   "execution_count": 9,
   "metadata": {},
   "outputs": [],
   "source": [
    "abbr = Table.read_table('abbreviations.csv')"
   ]
  },
  {
   "cell_type": "markdown",
   "metadata": {},
   "source": [
    "The dataset is missing data on certain causes of death, such as homicide and hypertensive renal disease, for certain years.  It looks like those causes of death are relatively rare, so for some purposes it makes sense to drop them from consideration.  Of course, we'll have to keep in mind that we're no longer looking at a comprehensive report on all deaths in California."
   ]
  },
  {
   "cell_type": "markdown",
   "metadata": {},
   "source": [
    "**a)Let's clean up our data. First, filter out the HOM, HYP, and NEP rows from the table for the reasons described above. Next, join together the abbreviations table and our causes of death table so that we have a more detailed discription of each disease in each row (for help on how to do this, see Chapter 8.4). Lastly, drop the column which contains the acronym of the disease, and rename the column with the full description 'Cause of Death'. Assign the variable `cleaned_causes` to the resulting table.**\n",
    "\n",
    "*Hint:* You should expect this to take more than one line. Use many lines and many intermediate tables to complete this question."
   ]
  },
  {
   "cell_type": "markdown",
   "metadata": {},
   "source": [
    "> We'll use temporary Tables in between our final table and our initial table so that we don't risk messing anything up."
   ]
  },
  {
   "cell_type": "code",
   "execution_count": 10,
   "metadata": {},
   "outputs": [
    {
     "data": {
      "text/html": [
       "<table border=\"1\" class=\"dataframe\">\n",
       "    <thead>\n",
       "        <tr>\n",
       "            <th>Year</th> <th>ZIP Code</th> <th>Cause of Death</th> <th>Count</th> <th>Location </th>\n",
       "        </tr>\n",
       "    </thead>\n",
       "    <tbody>\n",
       "        <tr>\n",
       "            <td>1999</td> <td>90002   </td> <td>SUI           </td> <td>1    </td> <td>(33.94969, -118.246213) </td>\n",
       "        </tr>\n",
       "        <tr>\n",
       "            <td>1999</td> <td>90005   </td> <td>HOM           </td> <td>1    </td> <td>(34.058508, -118.301197)</td>\n",
       "        </tr>\n",
       "        <tr>\n",
       "            <td>1999</td> <td>90006   </td> <td>ALZ           </td> <td>1    </td> <td>(34.049323, -118.291687)</td>\n",
       "        </tr>\n",
       "        <tr>\n",
       "            <td>1999</td> <td>90007   </td> <td>ALZ           </td> <td>1    </td> <td>(34.029442, -118.287095)</td>\n",
       "        </tr>\n",
       "        <tr>\n",
       "            <td>1999</td> <td>90009   </td> <td>DIA           </td> <td>1    </td> <td>(33.9452, -118.3832)    </td>\n",
       "        </tr>\n",
       "    </tbody>\n",
       "</table>\n",
       "<p>... (320147 rows omitted)</p>"
      ],
      "text/plain": [
       "<IPython.core.display.HTML object>"
      ]
     },
     "metadata": {},
     "output_type": "display_data"
    }
   ],
   "source": [
    "causes.show(5)"
   ]
  },
  {
   "cell_type": "code",
   "execution_count": 11,
   "metadata": {},
   "outputs": [
    {
     "data": {
      "text/html": [
       "<table border=\"1\" class=\"dataframe\">\n",
       "    <thead>\n",
       "        <tr>\n",
       "            <th>Year</th> <th>ZIP Code</th> <th>Cause of Death</th> <th>Count</th> <th>Location </th>\n",
       "        </tr>\n",
       "    </thead>\n",
       "    <tbody>\n",
       "        <tr>\n",
       "            <td>1999</td> <td>90002   </td> <td>SUI           </td> <td>1    </td> <td>(33.94969, -118.246213) </td>\n",
       "        </tr>\n",
       "        <tr>\n",
       "            <td>1999</td> <td>90006   </td> <td>ALZ           </td> <td>1    </td> <td>(34.049323, -118.291687)</td>\n",
       "        </tr>\n",
       "        <tr>\n",
       "            <td>1999</td> <td>90007   </td> <td>ALZ           </td> <td>1    </td> <td>(34.029442, -118.287095)</td>\n",
       "        </tr>\n",
       "        <tr>\n",
       "            <td>1999</td> <td>90009   </td> <td>DIA           </td> <td>1    </td> <td>(33.9452, -118.3832)    </td>\n",
       "        </tr>\n",
       "        <tr>\n",
       "            <td>1999</td> <td>90009   </td> <td>LIV           </td> <td>1    </td> <td>(33.9452, -118.3832)    </td>\n",
       "        </tr>\n",
       "    </tbody>\n",
       "</table>\n",
       "<p>... (297279 rows omitted)</p>"
      ],
      "text/plain": [
       "<IPython.core.display.HTML object>"
      ]
     },
     "metadata": {},
     "output_type": "display_data"
    }
   ],
   "source": [
    "# First remove rows with 'HOM'\n",
    "temp = causes.where('Cause of Death',are.not_equal_to('HOM'))\n",
    "temp.show(5) # check to make sure this is doing what we want it to do."
   ]
  },
  {
   "cell_type": "code",
   "execution_count": 12,
   "metadata": {},
   "outputs": [],
   "source": [
    "# remove rows with HYP and NEP at the same time\n",
    "temp2 = temp.where('Cause of Death', are.not_equal_to('HYP')).where('Cause of Death', are.not_equal_to('NEP'))"
   ]
  },
  {
   "cell_type": "code",
   "execution_count": 13,
   "metadata": {},
   "outputs": [
    {
     "data": {
      "text/html": [
       "<table border=\"1\" class=\"dataframe\">\n",
       "    <thead>\n",
       "        <tr>\n",
       "            <th>Cause of Death</th> <th>Year</th> <th>ZIP Code</th> <th>Count</th> <th>Location </th> <th>Cause of Death (Full Description)</th>\n",
       "        </tr>\n",
       "    </thead>\n",
       "    <tbody>\n",
       "        <tr>\n",
       "            <td>ALZ           </td> <td>1999</td> <td>90006   </td> <td>1    </td> <td>(34.049323, -118.291687)</td> <td>Alzheimer's Disease              </td>\n",
       "        </tr>\n",
       "        <tr>\n",
       "            <td>ALZ           </td> <td>1999</td> <td>90007   </td> <td>1    </td> <td>(34.029442, -118.287095)</td> <td>Alzheimer's Disease              </td>\n",
       "        </tr>\n",
       "        <tr>\n",
       "            <td>ALZ           </td> <td>1999</td> <td>90012   </td> <td>1    </td> <td>(34.061396, -118.238479)</td> <td>Alzheimer's Disease              </td>\n",
       "        </tr>\n",
       "        <tr>\n",
       "            <td>ALZ           </td> <td>1999</td> <td>90015   </td> <td>1    </td> <td>(34.043439, -118.271613)</td> <td>Alzheimer's Disease              </td>\n",
       "        </tr>\n",
       "        <tr>\n",
       "            <td>ALZ           </td> <td>1999</td> <td>90017   </td> <td>1    </td> <td>(34.055864, -118.266582)</td> <td>Alzheimer's Disease              </td>\n",
       "        </tr>\n",
       "    </tbody>\n",
       "</table>\n",
       "<p>... (251543 rows omitted)</p>"
      ],
      "text/plain": [
       "<IPython.core.display.HTML object>"
      ]
     },
     "metadata": {},
     "output_type": "display_data"
    }
   ],
   "source": [
    "# Join the abbreviations table and the cause of death table to include full description\n",
    "# Note that you need to join on the Cause of Death column from both tables because that is the column\n",
    "# with the same information in both tables.\n",
    "temp3 = temp2.join('Cause of Death', abbr, 'Cause of Death')\n",
    "temp3.show(5)"
   ]
  },
  {
   "cell_type": "code",
   "execution_count": 14,
   "metadata": {},
   "outputs": [
    {
     "data": {
      "text/html": [
       "<table border=\"1\" class=\"dataframe\">\n",
       "    <thead>\n",
       "        <tr>\n",
       "            <th>Year</th> <th>ZIP Code</th> <th>Count</th> <th>Location </th> <th>Cause of Death</th>\n",
       "        </tr>\n",
       "    </thead>\n",
       "    <tbody>\n",
       "        <tr>\n",
       "            <td>1999</td> <td>90006   </td> <td>1    </td> <td>(34.049323, -118.291687)</td> <td>Alzheimer's Disease</td>\n",
       "        </tr>\n",
       "        <tr>\n",
       "            <td>1999</td> <td>90007   </td> <td>1    </td> <td>(34.029442, -118.287095)</td> <td>Alzheimer's Disease</td>\n",
       "        </tr>\n",
       "        <tr>\n",
       "            <td>1999</td> <td>90012   </td> <td>1    </td> <td>(34.061396, -118.238479)</td> <td>Alzheimer's Disease</td>\n",
       "        </tr>\n",
       "        <tr>\n",
       "            <td>1999</td> <td>90015   </td> <td>1    </td> <td>(34.043439, -118.271613)</td> <td>Alzheimer's Disease</td>\n",
       "        </tr>\n",
       "        <tr>\n",
       "            <td>1999</td> <td>90017   </td> <td>1    </td> <td>(34.055864, -118.266582)</td> <td>Alzheimer's Disease</td>\n",
       "        </tr>\n",
       "    </tbody>\n",
       "</table>\n",
       "<p>... (251543 rows omitted)</p>"
      ],
      "text/plain": [
       "<IPython.core.display.HTML object>"
      ]
     },
     "metadata": {},
     "output_type": "display_data"
    }
   ],
   "source": [
    "# Drop Cause of Death and relabel the long name\n",
    "cleaned_causes = temp3.drop('Cause of Death').relabeled('Cause of Death (Full Description)','Cause of Death')\n",
    "\n",
    "# Check if it's ok\n",
    "cleaned_causes.show(5)"
   ]
  },
  {
   "cell_type": "markdown",
   "metadata": {},
   "source": [
    "**b) We're going to examine the changes in causes of death over time.  To make a plot of those numbers, we need to have a table with one row for each year and a column for each kind of death, where each cell contains the number of deaths by that cause in that year. Create this table and call it `cleaned_causes_by_year` (for help on how to do this, see Chapter 8.3).**"
   ]
  },
  {
   "cell_type": "markdown",
   "metadata": {},
   "source": [
    "> We use pivot for this. Since we want to add up the count of each cause of death, we use values = 'Count' and collect = sum"
   ]
  },
  {
   "cell_type": "code",
   "execution_count": 15,
   "metadata": {},
   "outputs": [
    {
     "data": {
      "text/html": [
       "<table border=\"1\" class=\"dataframe\">\n",
       "    <thead>\n",
       "        <tr>\n",
       "            <th>Year</th> <th>All Other Causes</th> <th>Alzheimer's Disease</th> <th>Cerebrovascular Disease (Stroke)</th> <th>Chronic Liver Disease and Cirrhosis</th> <th>Chronic Lower Respiratory Disease (CLRD)</th> <th>Diabetes Mellitus</th> <th>Diseases of the Heart</th> <th>Intentional Self Harm (Suicide)</th> <th>Malignant Neoplasms (Cancers)</th> <th>Pneumonia and Influenza</th> <th>Unintentional Injuries</th>\n",
       "        </tr>\n",
       "    </thead>\n",
       "    <tbody>\n",
       "        <tr>\n",
       "            <td>1999</td> <td>38392           </td> <td>3934               </td> <td>18079                           </td> <td>3546                               </td> <td>13187                                   </td> <td>6004             </td> <td>69900                </td> <td>3047                           </td> <td>52880                        </td> <td>8014                   </td> <td>8940                  </td>\n",
       "        </tr>\n",
       "        <tr>\n",
       "            <td>2000</td> <td>39259           </td> <td>4398               </td> <td>18090                           </td> <td>3673                               </td> <td>12754                                   </td> <td>6203             </td> <td>68533                </td> <td>3113                           </td> <td>53005                        </td> <td>8355                   </td> <td>8814                  </td>\n",
       "        </tr>\n",
       "        <tr>\n",
       "            <td>2001</td> <td>38383           </td> <td>4897               </td> <td>18078                           </td> <td>3759                               </td> <td>13056                                   </td> <td>6457             </td> <td>69004                </td> <td>3256                           </td> <td>53810                        </td> <td>8167                   </td> <td>9274                  </td>\n",
       "        </tr>\n",
       "        <tr>\n",
       "            <td>2002</td> <td>41177           </td> <td>5405               </td> <td>17551                           </td> <td>3725                               </td> <td>12643                                   </td> <td>6783             </td> <td>68387                </td> <td>3210                           </td> <td>53926                        </td> <td>8098                   </td> <td>9882                  </td>\n",
       "        </tr>\n",
       "        <tr>\n",
       "            <td>2003</td> <td>40325           </td> <td>6585               </td> <td>17686                           </td> <td>3832                               </td> <td>13380                                   </td> <td>7088             </td> <td>69013                </td> <td>3396                           </td> <td>54307                        </td> <td>8184                   </td> <td>10470                 </td>\n",
       "        </tr>\n",
       "        <tr>\n",
       "            <td>2004</td> <td>39926           </td> <td>6962               </td> <td>16884                           </td> <td>3686                               </td> <td>12519                                   </td> <td>7119             </td> <td>65002                </td> <td>3364                           </td> <td>53708                        </td> <td>7331                   </td> <td>10614                 </td>\n",
       "        </tr>\n",
       "        <tr>\n",
       "            <td>2005</td> <td>41791           </td> <td>7694               </td> <td>15550                           </td> <td>3819                               </td> <td>13166                                   </td> <td>7679             </td> <td>64684                </td> <td>3188                           </td> <td>54606                        </td> <td>7537                   </td> <td>10924                 </td>\n",
       "        </tr>\n",
       "        <tr>\n",
       "            <td>2006</td> <td>42965           </td> <td>8141               </td> <td>15011                           </td> <td>3826                               </td> <td>12807                                   </td> <td>7367             </td> <td>64648                </td> <td>3296                           </td> <td>54043                        </td> <td>7329                   </td> <td>11236                 </td>\n",
       "        </tr>\n",
       "        <tr>\n",
       "            <td>2007</td> <td>43130           </td> <td>8495               </td> <td>13724                           </td> <td>4052                               </td> <td>12497                                   </td> <td>7395             </td> <td>62220                </td> <td>3543                           </td> <td>54918                        </td> <td>6522                   </td> <td>11426                 </td>\n",
       "        </tr>\n",
       "        <tr>\n",
       "            <td>2008</td> <td>42800           </td> <td>10095              </td> <td>13792                           </td> <td>4142                               </td> <td>13346                                   </td> <td>7349             </td> <td>60739                </td> <td>3729                           </td> <td>54579                        </td> <td>6576                   </td> <td>10667                 </td>\n",
       "        </tr>\n",
       "    </tbody>\n",
       "</table>\n",
       "<p>... (5 rows omitted)</p>"
      ],
      "text/plain": [
       "Year | All Other Causes | Alzheimer's Disease | Cerebrovascular Disease (Stroke) | Chronic Liver Disease and Cirrhosis | Chronic Lower Respiratory Disease (CLRD) | Diabetes Mellitus | Diseases of the Heart | Intentional Self Harm (Suicide) | Malignant Neoplasms (Cancers) | Pneumonia and Influenza | Unintentional Injuries\n",
       "1999 | 38392            | 3934                | 18079                            | 3546                                | 13187                                    | 6004              | 69900                 | 3047                            | 52880                         | 8014                    | 8940\n",
       "2000 | 39259            | 4398                | 18090                            | 3673                                | 12754                                    | 6203              | 68533                 | 3113                            | 53005                         | 8355                    | 8814\n",
       "2001 | 38383            | 4897                | 18078                            | 3759                                | 13056                                    | 6457              | 69004                 | 3256                            | 53810                         | 8167                    | 9274\n",
       "2002 | 41177            | 5405                | 17551                            | 3725                                | 12643                                    | 6783              | 68387                 | 3210                            | 53926                         | 8098                    | 9882\n",
       "2003 | 40325            | 6585                | 17686                            | 3832                                | 13380                                    | 7088              | 69013                 | 3396                            | 54307                         | 8184                    | 10470\n",
       "2004 | 39926            | 6962                | 16884                            | 3686                                | 12519                                    | 7119              | 65002                 | 3364                            | 53708                         | 7331                    | 10614\n",
       "2005 | 41791            | 7694                | 15550                            | 3819                                | 13166                                    | 7679              | 64684                 | 3188                            | 54606                         | 7537                    | 10924\n",
       "2006 | 42965            | 8141                | 15011                            | 3826                                | 12807                                    | 7367              | 64648                 | 3296                            | 54043                         | 7329                    | 11236\n",
       "2007 | 43130            | 8495                | 13724                            | 4052                                | 12497                                    | 7395              | 62220                 | 3543                            | 54918                         | 6522                    | 11426\n",
       "2008 | 42800            | 10095               | 13792                            | 4142                                | 13346                                    | 7349              | 60739                 | 3729                            | 54579                         | 6576                    | 10667\n",
       "... (5 rows omitted)"
      ]
     },
     "execution_count": 15,
     "metadata": {},
     "output_type": "execute_result"
    }
   ],
   "source": [
    "cleaned_causes_by_year = cleaned_causes.pivot('Cause of Death','Year',values='Count', collect=sum)\n",
    "cleaned_causes_by_year"
   ]
  },
  {
   "cell_type": "markdown",
   "metadata": {},
   "source": [
    "**c) Make a plot of all the causes of death by year, using your cleaned-up version of the dataset.  There should be a single plot with one line per cause of death.**\n",
    "\n",
    "*Hint:* Use the Table method `plot`.  If you pass only a single argument, a line will be made for each of the other columns."
   ]
  },
  {
   "cell_type": "code",
   "execution_count": 16,
   "metadata": {},
   "outputs": [
    {
     "data": {
      "image/png": "[encoded data removed]",
      "text/plain": [
       "<Figure size 432x288 with 1 Axes>"
      ]
     },
     "metadata": {},
     "output_type": "display_data"
    }
   ],
   "source": [
    "cleaned_causes_by_year.plot('Year')"
   ]
  },
  {
   "cell_type": "markdown",
   "metadata": {},
   "source": [
    "**d) After seeing the plot above, we would now like to examine the distributions of diseases over the years using percentages. Below, we have assigned `distributions` to a table with all of the same columns, but the raw counts in the cells are replaced by the percentage of the the total number of deaths by a particular disease that happened in that specific year.** \n",
    "\n",
    "**Try to understand the code below and explain, in words, what it does.**"
   ]
  },
  {
   "cell_type": "code",
   "execution_count": 17,
   "metadata": {},
   "outputs": [
    {
     "data": {
      "text/html": [
       "<table border=\"1\" class=\"dataframe\">\n",
       "    <thead>\n",
       "        <tr>\n",
       "            <th>Year</th> <th>All Other Causes</th> <th>Alzheimer's Disease</th> <th>Cerebrovascular Disease (Stroke)</th> <th>Chronic Liver Disease and Cirrhosis</th> <th>Chronic Lower Respiratory Disease (CLRD)</th> <th>Diabetes Mellitus</th> <th>Diseases of the Heart</th> <th>Intentional Self Harm (Suicide)</th> <th>Malignant Neoplasms (Cancers)</th> <th>Pneumonia and Influenza</th> <th>Unintentional Injuries</th>\n",
       "        </tr>\n",
       "    </thead>\n",
       "    <tbody>\n",
       "        <tr>\n",
       "            <td>1999</td> <td>6.02            </td> <td>3.54               </td> <td>7.8                             </td> <td>5.86                               </td> <td>6.76                                    </td> <td>5.61             </td> <td>7.3                  </td> <td>5.8                            </td> <td>6.43                         </td> <td>6.91                   </td> <td>5.68                  </td>\n",
       "        </tr>\n",
       "        <tr>\n",
       "            <td>2000</td> <td>6.16            </td> <td>3.96               </td> <td>7.8                             </td> <td>6.07                               </td> <td>6.54                                    </td> <td>5.8              </td> <td>7.16                 </td> <td>5.92                           </td> <td>6.44                         </td> <td>7.21                   </td> <td>5.6                   </td>\n",
       "        </tr>\n",
       "        <tr>\n",
       "            <td>2001</td> <td>6.02            </td> <td>4.4                </td> <td>7.8                             </td> <td>6.21                               </td> <td>6.7                                     </td> <td>6.04             </td> <td>7.21                 </td> <td>6.19                           </td> <td>6.54                         </td> <td>7.05                   </td> <td>5.9                   </td>\n",
       "        </tr>\n",
       "        <tr>\n",
       "            <td>2002</td> <td>6.46            </td> <td>4.86               </td> <td>7.57                            </td> <td>6.15                               </td> <td>6.48                                    </td> <td>6.34             </td> <td>7.15                 </td> <td>6.11                           </td> <td>6.55                         </td> <td>6.99                   </td> <td>6.28                  </td>\n",
       "        </tr>\n",
       "        <tr>\n",
       "            <td>2003</td> <td>6.32            </td> <td>5.92               </td> <td>7.63                            </td> <td>6.33                               </td> <td>6.86                                    </td> <td>6.63             </td> <td>7.21                 </td> <td>6.46                           </td> <td>6.6                          </td> <td>7.06                   </td> <td>6.66                  </td>\n",
       "        </tr>\n",
       "        <tr>\n",
       "            <td>2004</td> <td>6.26            </td> <td>6.26               </td> <td>7.28                            </td> <td>6.09                               </td> <td>6.42                                    </td> <td>6.66             </td> <td>6.79                 </td> <td>6.4                            </td> <td>6.53                         </td> <td>6.32                   </td> <td>6.75                  </td>\n",
       "        </tr>\n",
       "        <tr>\n",
       "            <td>2005</td> <td>6.55            </td> <td>6.92               </td> <td>6.71                            </td> <td>6.31                               </td> <td>6.75                                    </td> <td>7.18             </td> <td>6.76                 </td> <td>6.06                           </td> <td>6.64                         </td> <td>6.5                    </td> <td>6.94                  </td>\n",
       "        </tr>\n",
       "        <tr>\n",
       "            <td>2006</td> <td>6.74            </td> <td>7.32               </td> <td>6.47                            </td> <td>6.32                               </td> <td>6.57                                    </td> <td>6.89             </td> <td>6.75                 </td> <td>6.27                           </td> <td>6.57                         </td> <td>6.32                   </td> <td>7.14                  </td>\n",
       "        </tr>\n",
       "        <tr>\n",
       "            <td>2007</td> <td>6.76            </td> <td>7.64               </td> <td>5.92                            </td> <td>6.69                               </td> <td>6.41                                    </td> <td>6.91             </td> <td>6.5                  </td> <td>6.74                           </td> <td>6.67                         </td> <td>5.63                   </td> <td>7.26                  </td>\n",
       "        </tr>\n",
       "        <tr>\n",
       "            <td>2008</td> <td>6.71            </td> <td>9.08               </td> <td>5.95                            </td> <td>6.84                               </td> <td>6.85                                    </td> <td>6.87             </td> <td>6.35                 </td> <td>7.09                           </td> <td>6.63                         </td> <td>5.67                   </td> <td>6.78                  </td>\n",
       "        </tr>\n",
       "        <tr>\n",
       "            <td>2009</td> <td>6.67            </td> <td>8.89               </td> <td>5.78                            </td> <td>7.03                               </td> <td>6.62                                    </td> <td>6.51             </td> <td>6.14                 </td> <td>7.15                           </td> <td>6.78                         </td> <td>5.48                   </td> <td>6.74                  </td>\n",
       "        </tr>\n",
       "        <tr>\n",
       "            <td>2010</td> <td>6.87            </td> <td>9.74               </td> <td>5.85                            </td> <td>7.03                               </td> <td>6.63                                    </td> <td>6.57             </td> <td>6.06                 </td> <td>7.29                           </td> <td>6.82                         </td> <td>5.05                   </td> <td>6.43                  </td>\n",
       "        </tr>\n",
       "        <tr>\n",
       "            <td>2011</td> <td>7.19            </td> <td>5.55               </td> <td>5.79                            </td> <td>7.49                               </td> <td>6.82                                    </td> <td>7.16             </td> <td>6.19                 </td> <td>7.54                           </td> <td>6.83                         </td> <td>8.91                   </td> <td>7.33                  </td>\n",
       "        </tr>\n",
       "        <tr>\n",
       "            <td>2012</td> <td>7.48            </td> <td>5.23               </td> <td>5.8                             </td> <td>7.67                               </td> <td>6.63                                    </td> <td>7.36             </td> <td>6.17                 </td> <td>7.35                           </td> <td>6.99                         </td> <td>9.27                   </td> <td>7.39                  </td>\n",
       "        </tr>\n",
       "        <tr>\n",
       "            <td>2013</td> <td>7.8             </td> <td>10.67              </td> <td>5.87                            </td> <td>7.89                               </td> <td>6.95                                    </td> <td>7.48             </td> <td>6.25                 </td> <td>7.62                           </td> <td>6.99                         </td> <td>5.63                   </td> <td>7.11                  </td>\n",
       "        </tr>\n",
       "    </tbody>\n",
       "</table>"
      ],
      "text/plain": [
       "<IPython.core.display.HTML object>"
      ]
     },
     "metadata": {},
     "output_type": "display_data"
    }
   ],
   "source": [
    "def percents(array_x):\n",
    "    return np.round( (array_x/sum(array_x))*100, 2)\n",
    "\n",
    "labels = cleaned_causes_by_year.labels\n",
    "labels\n",
    "distributions = Table().with_columns(labels[0], cleaned_causes_by_year.column(0),\n",
    "                                     labels[1], percents(cleaned_causes_by_year.column(1)),\n",
    "                                     labels[2], percents(cleaned_causes_by_year.column(2)),\n",
    "                                     labels[3], percents(cleaned_causes_by_year.column(3)),\n",
    "                                     labels[4], percents(cleaned_causes_by_year.column(4)),\n",
    "                                     labels[5], percents(cleaned_causes_by_year.column(5)),\n",
    "                                     labels[6], percents(cleaned_causes_by_year.column(6)),\n",
    "                                     labels[7], percents(cleaned_causes_by_year.column(7)),\n",
    "                                     labels[8], percents(cleaned_causes_by_year.column(8)),\n",
    "                                     labels[9], percents(cleaned_causes_by_year.column(9)),\n",
    "                                     labels[10], percents(cleaned_causes_by_year.column(10)),\n",
    "                                     labels[11], percents(cleaned_causes_by_year.column(11)))\n",
    "distributions.show()"
   ]
  },
  {
   "cell_type": "markdown",
   "metadata": {},
   "source": [
    "> This code is first creating a function called `percents()` that takes an array and returns an array of the same length with the percentage of the whole array that each element represents. Then, the column names are stored inside `labels`, and the `percents` function is applied to each column, creating a new Table called `distributions`, with column names equal to the column names in `cleaned_causes_by_year` except with column proportions instead of raw values."
   ]
  },
  {
   "cell_type": "markdown",
   "metadata": {},
   "source": [
    "**e) We suspect that the larger percentage of stroke-related deaths over the years 1999-2013 happened in the earlier years, while the larger percentage of deaths related to Chronic Liver Disease over this time period occured in the most recent years. Draw a bar chart to display both of the distributions of these diseases over the time period. What is your conclusion based on the bar chart?**\n",
    "\n",
    "*Hint:* The relevant column labels are \"Cerebrovascular Disease (Stroke)\" and \"Chronic Liver Disease and Cirrhosis\""
   ]
  },
  {
   "cell_type": "code",
   "execution_count": 18,
   "metadata": {},
   "outputs": [
    {
     "data": {
      "image/png": "[encoded data removed]",
      "text/plain": [
       "<Figure size 432x540 with 1 Axes>"
      ]
     },
     "metadata": {},
     "output_type": "display_data"
    }
   ],
   "source": [
    "# Create a bar chart by subsetting data to just the columns we want, then using .barh\n",
    "distributions.select('Year','Cerebrovascular Disease (Stroke)', 'Chronic Liver Disease and Cirrhosis').barh('Year')"
   ]
  },
  {
   "cell_type": "markdown",
   "metadata": {},
   "source": [
    "The graph seems to support the hypothesis. Stroke-related deaths seem to have a larger proportion in earlier years (remember, this is column proportion, so it's the proportion of all stroke-related deaths that happened in that year), while the opposite is true for Chronic Liver Disease."
   ]
  },
  {
   "cell_type": "markdown",
   "metadata": {},
   "source": [
    "### Question 3. Cards Against Humanity - Pulse of the Nation Public Opinion Poll\n",
    "\n",
    "In this question, we'll explore the Cards Against Humanity poll dataset further using the tools we've learned. For your convenience, we have made a subset of the data available to you in a CSV file called `201709-CAH_PulseOfTheNation.csv`."
   ]
  },
  {
   "cell_type": "code",
   "execution_count": 19,
   "metadata": {},
   "outputs": [],
   "source": [
    "cah = Table.read_table('201709-CAH_PulseOfTheNation.csv')"
   ]
  },
  {
   "cell_type": "markdown",
   "metadata": {},
   "source": [
    "**a) Write a function called `is_not_zero` which takes a numerical input and returns `True` if the value isn't 0 and `False` if the value is 0.**"
   ]
  },
  {
   "cell_type": "markdown",
   "metadata": {},
   "source": [
    "> Here, consider three different ways of writing this function"
   ]
  },
  {
   "cell_type": "code",
   "execution_count": 20,
   "metadata": {},
   "outputs": [],
   "source": [
    "def is_not_zero(x):\n",
    "    return x != 0"
   ]
  },
  {
   "cell_type": "code",
   "execution_count": 21,
   "metadata": {},
   "outputs": [],
   "source": [
    "def is_not_zero(x):\n",
    "    if x == 0:\n",
    "        return False\n",
    "    else:\n",
    "        return True"
   ]
  },
  {
   "cell_type": "code",
   "execution_count": 22,
   "metadata": {},
   "outputs": [],
   "source": [
    "def is_not_zero(x):\n",
    "    if x == 0:\n",
    "        return False\n",
    "    if x != 0:\n",
    "        return True"
   ]
  },
  {
   "cell_type": "markdown",
   "metadata": {},
   "source": [
    "**b) Add a new column to `cah` called \"Has watched any Transformers movies\" which is `True` if the person has watched any Transformers movies and `False` if they haven't.**\n",
    "\n",
    "*Hint:* Use the `apply` method. See **Chapter 8.1** for details."
   ]
  },
  {
   "cell_type": "code",
   "execution_count": 23,
   "metadata": {},
   "outputs": [
    {
     "data": {
      "text/plain": [
       "('Income',\n",
       " 'Gender',\n",
       " 'Age',\n",
       " 'Age Range',\n",
       " 'Political Affiliation',\n",
       " 'Do you approve or disapprove of how Donald Trump is handling his job as president?',\n",
       " 'What is your highest level of education? ',\n",
       " 'What is your race?',\n",
       " 'What is your marital status?',\n",
       " 'What would you say is the likelihood that your current job will be entirely performed by robots or computers within the next decade?',\n",
       " 'Do you believe that climate change is real and caused by people, real but not caused by people, or not real at all?',\n",
       " 'How many Transformers movies have you seen? ',\n",
       " 'Do you agree or disagree with the following statement: scientists are generally honest and are serving the public good. ',\n",
       " 'Do you agree or disagree with the following statement: vaccines are safe and protect children from disease.',\n",
       " 'How many books, if any, have you read in the past year?',\n",
       " 'Do you believe in ghosts?',\n",
       " 'What percentage of the federal budget would you estimate is spent on scientific research?',\n",
       " 'Is federal funding of scientific research too high, too low, or about right?',\n",
       " 'True or false: the earth is always farther away from the sun in the winter than in the summer.',\n",
       " 'If you had to choose: would you rather be smart and sad, or dumb and happy?',\n",
       " 'Do you think it is acceptable or unacceptable to urinate in the shower?')"
      ]
     },
     "execution_count": 23,
     "metadata": {},
     "output_type": "execute_result"
    }
   ],
   "source": [
    "# Identify the correct label to use.\n",
    "cah.labels"
   ]
  },
  {
   "cell_type": "code",
   "execution_count": 24,
   "metadata": {},
   "outputs": [
    {
     "data": {
      "text/html": [
       "<table border=\"1\" class=\"dataframe\">\n",
       "    <thead>\n",
       "        <tr>\n",
       "            <th>Income</th> <th>Gender</th> <th>Age</th> <th>Age Range</th> <th>Political Affiliation</th> <th>Do you approve or disapprove of how Donald Trump is handling his job as president?</th> <th>What is your highest level of education? </th> <th>What is your race?</th> <th>What is your marital status?</th> <th>What would you say is the likelihood that your current job will be entirely performed by robots or computers within the next decade?</th> <th>Do you believe that climate change is real and caused by people, real but not caused by people, or not real at all?</th> <th>How many Transformers movies have you seen? </th> <th>Do you agree or disagree with the following statement: scientists are generally honest and are serving the public good. </th> <th>Do you agree or disagree with the following statement: vaccines are safe and protect children from disease.</th> <th>How many books, if any, have you read in the past year?</th> <th>Do you believe in ghosts?</th> <th>What percentage of the federal budget would you estimate is spent on scientific research?</th> <th>Is federal funding of scientific research too high, too low, or about right?</th> <th>True or false: the earth is always farther away from the sun in the winter than in the summer.</th> <th>If you had to choose: would you rather be smart and sad, or dumb and happy?</th> <th>Do you think it is acceptable or unacceptable to urinate in the shower?</th> <th>Has watched any Transformers movies</th>\n",
       "        </tr>\n",
       "    </thead>\n",
       "    <tbody>\n",
       "        <tr>\n",
       "            <td>68000 </td> <td>Female</td> <td>56  </td> <td>55-64    </td> <td>Democrat             </td> <td>Strongly disapprove                                                               </td> <td>High school                              </td> <td>Black             </td> <td>Single                      </td> <td>Unlikely                                                                                                                            </td> <td>DK/REF                                                                                                             </td> <td>0                                           </td> <td>Somewhat Agree                                                                                                          </td> <td>Somewhat Disagree                                                                                          </td> <td>6                                                      </td> <td>No                       </td> <td>90                                                                                       </td> <td>Too High                                                                    </td> <td>FALSE                                                                                         </td> <td>Smart and Sad                                                              </td> <td>Unacceptable                                                           </td> <td>False                              </td>\n",
       "        </tr>\n",
       "        <tr>\n",
       "            <td>46000 </td> <td>Male  </td> <td>63  </td> <td>55-64    </td> <td>Independent          </td> <td>Somewhat Approve                                                                  </td> <td>Some college                             </td> <td>White             </td> <td>Married                     </td> <td>Unlikely                                                                                                                            </td> <td>Real but not Caused by People                                                                                      </td> <td>0                                           </td> <td>Somewhat Agree                                                                                                          </td> <td>Strongly Agree                                                                                             </td> <td>0                                                      </td> <td>No                       </td> <td>20                                                                                       </td> <td>About Right                                                                 </td> <td>TRUE                                                                                          </td> <td>Dumb and happy                                                             </td> <td>Acceptable                                                             </td> <td>False                              </td>\n",
       "        </tr>\n",
       "        <tr>\n",
       "            <td>51000 </td> <td>Male  </td> <td>48  </td> <td>45-54    </td> <td>Republican           </td> <td>Strongly Approve                                                                  </td> <td>High school                              </td> <td>White             </td> <td>Divorced                    </td> <td>Unlikely                                                                                                                            </td> <td>Not Real At All                                                                                                    </td> <td>0                                           </td> <td>Somewhat Disagree                                                                                                       </td> <td>Somewhat Disagree                                                                                          </td> <td>1                                                      </td> <td>No                       </td> <td>10                                                                                       </td> <td>About Right                                                                 </td> <td>FALSE                                                                                         </td> <td>Dumb and happy                                                             </td> <td>Unacceptable                                                           </td> <td>False                              </td>\n",
       "        </tr>\n",
       "        <tr>\n",
       "            <td>54000 </td> <td>Female</td> <td>64  </td> <td>55-64    </td> <td>Democrat             </td> <td>Strongly disapprove                                                               </td> <td>Some college                             </td> <td>White             </td> <td>Married                     </td> <td>DK/REF                                                                                                                              </td> <td>Real and Caused by People                                                                                          </td> <td>0                                           </td> <td>Strongly Agree                                                                                                          </td> <td>Strongly Agree                                                                                             </td> <td>15                                                     </td> <td>No                       </td> <td>1                                                                                        </td> <td>Too Low                                                                     </td> <td>TRUE                                                                                          </td> <td>Smart and Sad                                                              </td> <td>Unacceptable                                                           </td> <td>False                              </td>\n",
       "        </tr>\n",
       "        <tr>\n",
       "            <td>83000 </td> <td>Male  </td> <td>61  </td> <td>55-64    </td> <td>Independent          </td> <td>Somewhat Approve                                                                  </td> <td>College degree                           </td> <td>White             </td> <td>Divorced                    </td> <td>Unlikely                                                                                                                            </td> <td>Real but not Caused by People                                                                                      </td> <td>0                                           </td> <td>Strongly Agree                                                                                                          </td> <td>Strongly Agree                                                                                             </td> <td>0                                                      </td> <td>Yes                      </td> <td>10                                                                                       </td> <td>About Right                                                                 </td> <td>TRUE                                                                                          </td> <td>Dumb and happy                                                             </td> <td>Unacceptable                                                           </td> <td>False                              </td>\n",
       "        </tr>\n",
       "    </tbody>\n",
       "</table>\n",
       "<p>... (305 rows omitted)</p>"
      ],
      "text/plain": [
       "<IPython.core.display.HTML object>"
      ]
     },
     "metadata": {},
     "output_type": "display_data"
    }
   ],
   "source": [
    "# We add a new column using the output of the apply function\n",
    "trans_vals = cah.apply(is_not_zero, 'How many Transformers movies have you seen? ')\n",
    "cah_new = cah.with_column(\"Has watched any Transformers movies\", trans_vals)\n",
    "cah_new.show(5)\n",
    "cah = cah_new # we created a new Table temporarily so that we don't overwrite the original if it isn't right."
   ]
  },
  {
   "cell_type": "markdown",
   "metadata": {},
   "source": [
    "**c) How many people have watched any Transformers movies? How many have not? Use the `group` method to find the answer.**"
   ]
  },
  {
   "cell_type": "code",
   "execution_count": 25,
   "metadata": {},
   "outputs": [
    {
     "data": {
      "text/html": [
       "<table border=\"1\" class=\"dataframe\">\n",
       "    <thead>\n",
       "        <tr>\n",
       "            <th>Has watched any Transformers movies</th> <th>count</th>\n",
       "        </tr>\n",
       "    </thead>\n",
       "    <tbody>\n",
       "        <tr>\n",
       "            <td>False                              </td> <td>154  </td>\n",
       "        </tr>\n",
       "        <tr>\n",
       "            <td>True                               </td> <td>156  </td>\n",
       "        </tr>\n",
       "    </tbody>\n",
       "</table>"
      ],
      "text/plain": [
       "Has watched any Transformers movies | count\n",
       "False                               | 154\n",
       "True                                | 156"
      ]
     },
     "execution_count": 25,
     "metadata": {},
     "output_type": "execute_result"
    }
   ],
   "source": [
    "cah.group(\"Has watched any Transformers movies\")"
   ]
  },
  {
   "cell_type": "markdown",
   "metadata": {},
   "source": [
    "> 156 people have watched at least one Transformers movie, while 154 have not."
   ]
  },
  {
   "cell_type": "markdown",
   "metadata": {},
   "source": [
    "**d) Do people who are less educated tended to believe in ghosts more? Use summaries and at least one visualization to support your answer.**\n",
    "\n",
    "*Hint:* Find a summary using the `pivot` method and use the `barh` method to get a barchart."
   ]
  },
  {
   "cell_type": "code",
   "execution_count": 26,
   "metadata": {},
   "outputs": [
    {
     "data": {
      "text/html": [
       "<table border=\"1\" class=\"dataframe\">\n",
       "    <thead>\n",
       "        <tr>\n",
       "            <th>education</th> <th>believe_ghosts</th>\n",
       "        </tr>\n",
       "    </thead>\n",
       "    <tbody>\n",
       "        <tr>\n",
       "            <td>High school   </td> <td>No            </td>\n",
       "        </tr>\n",
       "        <tr>\n",
       "            <td>Some college  </td> <td>No            </td>\n",
       "        </tr>\n",
       "        <tr>\n",
       "            <td>High school   </td> <td>No            </td>\n",
       "        </tr>\n",
       "        <tr>\n",
       "            <td>Some college  </td> <td>No            </td>\n",
       "        </tr>\n",
       "        <tr>\n",
       "            <td>College degree</td> <td>Yes           </td>\n",
       "        </tr>\n",
       "    </tbody>\n",
       "</table>\n",
       "<p>... (305 rows omitted)</p>"
      ],
      "text/plain": [
       "<IPython.core.display.HTML object>"
      ]
     },
     "metadata": {},
     "output_type": "display_data"
    }
   ],
   "source": [
    "# Let's subset so we only have the data we need for this.\n",
    "# We'll also rename to make our lives easier\n",
    "ghosts = cah.select('What is your highest level of education? ', 'Do you believe in ghosts?')\n",
    "ghosts = ghosts.relabeled('What is your highest level of education? ', 'education').relabeled('Do you believe in ghosts?', 'believe_ghosts')\n",
    "ghosts.show(5)"
   ]
  },
  {
   "cell_type": "code",
   "execution_count": 27,
   "metadata": {},
   "outputs": [
    {
     "data": {
      "text/html": [
       "<table border=\"1\" class=\"dataframe\">\n",
       "    <thead>\n",
       "        <tr>\n",
       "            <th>believe_ghosts</th> <th>College degree</th> <th>Graduate degree</th> <th>High school</th> <th>Other</th> <th>Some college</th>\n",
       "        </tr>\n",
       "    </thead>\n",
       "    <tbody>\n",
       "        <tr>\n",
       "            <td>DK/REF        </td> <td>1             </td> <td>5              </td> <td>0          </td> <td>0    </td> <td>2           </td>\n",
       "        </tr>\n",
       "        <tr>\n",
       "            <td>No            </td> <td>68            </td> <td>49             </td> <td>33         </td> <td>1    </td> <td>36          </td>\n",
       "        </tr>\n",
       "        <tr>\n",
       "            <td>Yes           </td> <td>37            </td> <td>26             </td> <td>21         </td> <td>4    </td> <td>27          </td>\n",
       "        </tr>\n",
       "    </tbody>\n",
       "</table>"
      ],
      "text/plain": [
       "believe_ghosts | College degree | Graduate degree | High school | Other | Some college\n",
       "DK/REF         | 1              | 5               | 0           | 0     | 2\n",
       "No             | 68             | 49              | 33          | 1     | 36\n",
       "Yes            | 37             | 26              | 21          | 4     | 27"
      ]
     },
     "execution_count": 27,
     "metadata": {},
     "output_type": "execute_result"
    }
   ],
   "source": [
    "ghosts_tab = ghosts.pivot('education','believe_ghosts')\n",
    "ghosts_tab"
   ]
  },
  {
   "cell_type": "markdown",
   "metadata": {},
   "source": [
    "> This can be hard to read. Let's find column proportions."
   ]
  },
  {
   "cell_type": "code",
   "execution_count": 28,
   "metadata": {},
   "outputs": [
    {
     "data": {
      "text/html": [
       "<table border=\"1\" class=\"dataframe\">\n",
       "    <thead>\n",
       "        <tr>\n",
       "            <th>BelieveGhosts</th> <th>HighSchool Percent</th> <th>SomeCollege Percent</th> <th>College Percent</th> <th>Graduate Percent</th> <th>Other Percent</th>\n",
       "        </tr>\n",
       "    </thead>\n",
       "    <tbody>\n",
       "        <tr>\n",
       "            <td>DK/REF       </td> <td>0                 </td> <td>3.08               </td> <td>0.94           </td> <td>6.25            </td> <td>0            </td>\n",
       "        </tr>\n",
       "        <tr>\n",
       "            <td>No           </td> <td>61.11             </td> <td>55.38              </td> <td>64.15          </td> <td>61.25           </td> <td>20           </td>\n",
       "        </tr>\n",
       "        <tr>\n",
       "            <td>Yes          </td> <td>38.89             </td> <td>41.54              </td> <td>34.91          </td> <td>32.5            </td> <td>80           </td>\n",
       "        </tr>\n",
       "    </tbody>\n",
       "</table>"
      ],
      "text/plain": [
       "BelieveGhosts | HighSchool Percent | SomeCollege Percent | College Percent | Graduate Percent | Other Percent\n",
       "DK/REF        | 0                  | 3.08                | 0.94            | 6.25             | 0\n",
       "No            | 61.11              | 55.38               | 64.15           | 61.25            | 20\n",
       "Yes           | 38.89              | 41.54               | 34.91           | 32.5             | 80"
      ]
     },
     "execution_count": 28,
     "metadata": {},
     "output_type": "execute_result"
    }
   ],
   "source": [
    "# This is already defined from above, but rewriting it here for reference.\n",
    "def percents(array_x):\n",
    "    return np.round((array_x/sum(array_x))*100, 2)\n",
    "\n",
    "# We also do some rearranging to put it in an intuitive order (education level is ordinal!)\n",
    "ghost_distribution = Table().with_columns('BelieveGhosts',ghosts_tab.column(0),\n",
    "                                          'HighSchool Percent', percents(ghosts_tab.column(3)),\n",
    "                                          'SomeCollege Percent', percents(ghosts_tab.column(5)),\n",
    "                                          'College Percent', percents(ghosts_tab.column(1)),\n",
    "                                          'Graduate Percent', percents(ghosts_tab.column(2)),\n",
    "                                          'Other Percent', percents(ghosts_tab.column(4))\n",
    "                                         )\n",
    "ghost_distribution"
   ]
  },
  {
   "cell_type": "markdown",
   "metadata": {},
   "source": [
    "> There doesn't actually seem to be a huge change by education level. Ignoring the \"Other\" category, it's generally around 60% \"No\" and 35-40% \"Yes\". Let's look at a bar graph to see if we can see any differences on it."
   ]
  },
  {
   "cell_type": "code",
   "execution_count": 29,
   "metadata": {},
   "outputs": [
    {
     "data": {
      "image/png": "[encoded data removed]",
      "text/plain": [
       "<Figure size 432x288 with 1 Axes>"
      ]
     },
     "metadata": {},
     "output_type": "display_data"
    }
   ],
   "source": [
    "ghost_distribution.barh('BelieveGhosts')"
   ]
  },
  {
   "cell_type": "markdown",
   "metadata": {},
   "source": [
    "> Again, besides the \"Other\" group, the bar lengths aren't too different."
   ]
  },
  {
   "cell_type": "code",
   "execution_count": null,
   "metadata": {},
   "outputs": [],
   "source": []
  }
 ],
 "metadata": {
  "kernelspec": {
   "display_name": "Python 3",
   "language": "python",
   "name": "python3"
  },
  "language_info": {
   "codemirror_mode": {
    "name": "ipython",
    "version": 3
   },
   "file_extension": ".py",
   "mimetype": "text/x-python",
   "name": "python",
   "nbconvert_exporter": "python",
   "pygments_lexer": "ipython3",
   "version": "3.7.2"
  },
  "toc": {
   "base_numbering": 1,
   "nav_menu": {},
   "number_sections": false,
   "sideBar": false,
   "skip_h1_title": false,
   "title_cell": "Table of Contents",
   "title_sidebar": "Contents",
   "toc_cell": false,
   "toc_position": {},
   "toc_section_display": false,
   "toc_window_display": false
  }
 },
 "nbformat": 4,
 "nbformat_minor": 2
}
