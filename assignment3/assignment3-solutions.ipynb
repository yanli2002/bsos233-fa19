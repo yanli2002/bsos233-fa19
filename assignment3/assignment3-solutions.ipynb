{
 "cells": [
  {
   "cell_type": "markdown",
   "metadata": {},
   "source": [
    "# Assignment 3: Simulations and the Central Limit Theorem\n",
    "\n",
    "This assignment covers **Chapters 9-10** from the textbook as well as lecture material from Weeks 5-6. Please complete this assignment by providing answers in cells after the question. Use **Code** cells to write and run any code you need to answer the question and **Markdown** cells to write out answers in words. After you are finished with the assignment, remember to download it as an **HTML file** and submit it in **ELMS**.\n",
    "\n",
    "This assignment is due by **11:59pm on Friday, October 4**. Revisions are due by **11:59pm on Friday, October 11**."
   ]
  },
  {
   "cell_type": "code",
   "execution_count": 1,
   "metadata": {},
   "outputs": [],
   "source": [
    "import numpy as np\n",
    "from datascience import *\n",
    "\n",
    "\n",
    "# These lines do some fancy plotting magic.\n",
    "import matplotlib\n",
    "%matplotlib inline\n",
    "import matplotlib.pyplot as plots\n",
    "\n",
    "# This is if you want your plots to have the FiveThirtyEight style\n",
    "plots.style.use('fivethirtyeight')"
   ]
  },
  {
   "cell_type": "markdown",
   "metadata": {},
   "source": [
    "### Question 1. Rolling Dice\n",
    "\n"
   ]
  },
  {
   "cell_type": "markdown",
   "metadata": {},
   "source": [
    "**a)** Define a function called `die_roll` with no parameters that randomly \"rolls a die\" (that is, randomly generates a number from one to six) and returns the result. Then, define a function called `mean_roll` with one parameter (`num`) that calls `die_roll` and returns the mean of `num` die rolls.\n",
    "\n",
    "For example, if you want to roll a die 20 times and find the mean of those 20 rolls, you should be able to use:\n",
    "   \n",
    "    mean_roll(num = 20)\n",
    "    \n",
    "Find the mean of rolling a die 50 times. (Note: Due to randomness, not everyone will have the same answer)"
   ]
  },
  {
   "cell_type": "code",
   "execution_count": 2,
   "metadata": {},
   "outputs": [],
   "source": [
    "def die_roll():\n",
    "    die = np.arange(1,7)\n",
    "    rdm = np.random.choice(die)\n",
    "    return rdm"
   ]
  },
  {
   "cell_type": "code",
   "execution_count": 3,
   "metadata": {},
   "outputs": [
    {
     "data": {
      "text/plain": [
       "1"
      ]
     },
     "execution_count": 3,
     "metadata": {},
     "output_type": "execute_result"
    }
   ],
   "source": [
    "die_roll()"
   ]
  },
  {
   "cell_type": "code",
   "execution_count": 4,
   "metadata": {},
   "outputs": [],
   "source": [
    "def mean_roll(num):\n",
    "    rolls = make_array()\n",
    "    for i in np.arange(num):\n",
    "        rolls = np.append(rolls,die_roll())\n",
    "    mean_val = np.mean(rolls)\n",
    "    return mean_val"
   ]
  },
  {
   "cell_type": "code",
   "execution_count": 5,
   "metadata": {},
   "outputs": [
    {
     "data": {
      "text/plain": [
       "3.54"
      ]
     },
     "execution_count": 5,
     "metadata": {},
     "output_type": "execute_result"
    }
   ],
   "source": [
    "mean_roll(num = 50)"
   ]
  },
  {
   "cell_type": "markdown",
   "metadata": {},
   "source": [
    "**b)** Repeat the process of 50 die rolls 1000 times and record the mean of each trial. Store the 1000 means in an array called `dice_means`. (**Hint:** Don't try to manually do the 1000 trials of 50 rolls! Use a `for` loop!)"
   ]
  },
  {
   "cell_type": "code",
   "execution_count": 6,
   "metadata": {},
   "outputs": [],
   "source": [
    "dice_means = make_array()\n",
    "\n",
    "for i in np.arange(1000):\n",
    "    dice_means = np.append(dice_means, mean_roll(num = 50))"
   ]
  },
  {
   "cell_type": "markdown",
   "metadata": {},
   "source": [
    "**c)** Describe the distribution of the 1000 means. Use numerical and graphical summaries. What is the shape? The center? The spread?"
   ]
  },
  {
   "cell_type": "code",
   "execution_count": 7,
   "metadata": {},
   "outputs": [
    {
     "data": {
      "image/png": "[encoded data removed]",
      "text/plain": [
       "<Figure size 432x288 with 1 Axes>"
      ]
     },
     "metadata": {},
     "output_type": "display_data"
    }
   ],
   "source": [
    "dice_means_table = Table().with_column('dice_means', dice_means)\n",
    "dice_means_table.hist('dice_means',bins=20)"
   ]
  },
  {
   "cell_type": "code",
   "execution_count": 8,
   "metadata": {},
   "outputs": [
    {
     "data": {
      "text/html": [
       "<table border=\"1\" class=\"dataframe\">\n",
       "    <thead>\n",
       "        <tr>\n",
       "            <th>statistic</th> <th>dice_means</th>\n",
       "        </tr>\n",
       "    </thead>\n",
       "    <tbody>\n",
       "        <tr>\n",
       "            <td>min      </td> <td>2.7       </td>\n",
       "        </tr>\n",
       "        <tr>\n",
       "            <td>max      </td> <td>4.2       </td>\n",
       "        </tr>\n",
       "        <tr>\n",
       "            <td>median   </td> <td>3.5       </td>\n",
       "        </tr>\n",
       "        <tr>\n",
       "            <td>sum      </td> <td>3497.86   </td>\n",
       "        </tr>\n",
       "    </tbody>\n",
       "</table>"
      ],
      "text/plain": [
       "statistic | dice_means\n",
       "min       | 2.7\n",
       "max       | 4.2\n",
       "median    | 3.5\n",
       "sum       | 3497.86"
      ]
     },
     "execution_count": 8,
     "metadata": {},
     "output_type": "execute_result"
    }
   ],
   "source": [
    "dice_means_table.stats()"
   ]
  },
  {
   "cell_type": "code",
   "execution_count": 9,
   "metadata": {},
   "outputs": [
    {
     "name": "stderr",
     "output_type": "stream",
     "text": [
      "//anaconda3/lib/python3.7/site-packages/datascience/tables.py:193: FutureWarning: Implicit column method lookup is deprecated.\n",
      "  warnings.warn(\"Implicit column method lookup is deprecated.\", FutureWarning)\n"
     ]
    },
    {
     "data": {
      "text/html": [
       "<table border=\"1\" class=\"dataframe\">\n",
       "    <thead>\n",
       "        <tr>\n",
       "            <th>dice_means</th>\n",
       "        </tr>\n",
       "    </thead>\n",
       "    <tbody>\n",
       "        <tr>\n",
       "            <td>3.49786   </td>\n",
       "        </tr>\n",
       "    </tbody>\n",
       "</table>"
      ],
      "text/plain": [
       "dice_means\n",
       "3.49786"
      ]
     },
     "execution_count": 9,
     "metadata": {},
     "output_type": "execute_result"
    }
   ],
   "source": [
    "np.mean(dice_means_table)"
   ]
  },
  {
   "cell_type": "code",
   "execution_count": 10,
   "metadata": {},
   "outputs": [
    {
     "data": {
      "text/html": [
       "<table border=\"1\" class=\"dataframe\">\n",
       "    <thead>\n",
       "        <tr>\n",
       "            <th>dice_means</th>\n",
       "        </tr>\n",
       "    </thead>\n",
       "    <tbody>\n",
       "        <tr>\n",
       "            <td>0.237205  </td>\n",
       "        </tr>\n",
       "    </tbody>\n",
       "</table>"
      ],
      "text/plain": [
       "dice_means\n",
       "0.237205"
      ]
     },
     "execution_count": 10,
     "metadata": {},
     "output_type": "execute_result"
    }
   ],
   "source": [
    "np.std(dice_means_table)"
   ]
  },
  {
   "cell_type": "markdown",
   "metadata": {},
   "source": [
    "> The center of the distribution seems be around 3.5. The mean and the median are both very close to 3.5, suggesting a symmetric distribution. The histogram supports this, with a unimodal, bell-shaped distribution that looks approximately symmetric. The standard deviation of the means is approximately 0.24, and the range is approximately 2 (between 2.48 and 4.34)."
   ]
  },
  {
   "cell_type": "markdown",
   "metadata": {},
   "source": [
    "**d)** On average, the theoretical mean die roll should be 3.5. That is, if all of the numbers are equally likely, then each number has a 1/6 chance of being selected, giving an expected value of 3.5. However, as you may have noticed from the above simulations, there was some variation -- while most of the means were close to 3.5, they were slightly off due to randomness. Still, there was a range of values that were likely to be the mean, centered around approximately 3.5. Based on the distribution from part **c)**, what at values of the mean would you consider to be highly unlikely? "
   ]
  },
  {
   "cell_type": "markdown",
   "metadata": {},
   "source": [
    "> Looking at the histogram, it looks like values close to 3.0 and below or 4.0 and above are highly unlikely. Even though there are a few means that ended up outside the range of 3.0 to 4.0, not very many did."
   ]
  },
  {
   "cell_type": "markdown",
   "metadata": {},
   "source": [
    "**e)** Suppose we were to change the 50 rolls to 200 rolls per trial instead. How would you expect the distribution of the means to change? Repeat part **b)** and **c)** using 200 instead of 50 and comment on any differences between the two."
   ]
  },
  {
   "cell_type": "code",
   "execution_count": 11,
   "metadata": {},
   "outputs": [],
   "source": [
    "dice_means_200 = make_array()\n",
    "\n",
    "for i in np.arange(1000):\n",
    "    dice_means_200 = np.append(dice_means_200, mean_roll(num = 200))\n"
   ]
  },
  {
   "cell_type": "code",
   "execution_count": 12,
   "metadata": {},
   "outputs": [
    {
     "data": {
      "image/png": "[encoded data removed]",
      "text/plain": [
       "<Figure size 432x288 with 1 Axes>"
      ]
     },
     "metadata": {},
     "output_type": "display_data"
    }
   ],
   "source": [
    "dice_table_200 = Table().with_column('dice_means', dice_means_200)\n",
    "dice_table_200.hist('dice_means',bins=20)"
   ]
  },
  {
   "cell_type": "code",
   "execution_count": 13,
   "metadata": {},
   "outputs": [
    {
     "data": {
      "text/html": [
       "<table border=\"1\" class=\"dataframe\">\n",
       "    <thead>\n",
       "        <tr>\n",
       "            <th>statistic</th> <th>dice_means</th>\n",
       "        </tr>\n",
       "    </thead>\n",
       "    <tbody>\n",
       "        <tr>\n",
       "            <td>min      </td> <td>3.135     </td>\n",
       "        </tr>\n",
       "        <tr>\n",
       "            <td>max      </td> <td>3.965     </td>\n",
       "        </tr>\n",
       "        <tr>\n",
       "            <td>median   </td> <td>3.505     </td>\n",
       "        </tr>\n",
       "        <tr>\n",
       "            <td>sum      </td> <td>3501.95   </td>\n",
       "        </tr>\n",
       "    </tbody>\n",
       "</table>"
      ],
      "text/plain": [
       "statistic | dice_means\n",
       "min       | 3.135\n",
       "max       | 3.965\n",
       "median    | 3.505\n",
       "sum       | 3501.95"
      ]
     },
     "execution_count": 13,
     "metadata": {},
     "output_type": "execute_result"
    }
   ],
   "source": [
    "dice_table_200.stats()"
   ]
  },
  {
   "cell_type": "code",
   "execution_count": 14,
   "metadata": {},
   "outputs": [
    {
     "data": {
      "text/html": [
       "<table border=\"1\" class=\"dataframe\">\n",
       "    <thead>\n",
       "        <tr>\n",
       "            <th>dice_means</th>\n",
       "        </tr>\n",
       "    </thead>\n",
       "    <tbody>\n",
       "        <tr>\n",
       "            <td>3.50194   </td>\n",
       "        </tr>\n",
       "    </tbody>\n",
       "</table>"
      ],
      "text/plain": [
       "dice_means\n",
       "3.50194"
      ]
     },
     "execution_count": 14,
     "metadata": {},
     "output_type": "execute_result"
    }
   ],
   "source": [
    "np.mean(dice_table_200)"
   ]
  },
  {
   "cell_type": "code",
   "execution_count": 15,
   "metadata": {},
   "outputs": [
    {
     "data": {
      "text/html": [
       "<table border=\"1\" class=\"dataframe\">\n",
       "    <thead>\n",
       "        <tr>\n",
       "            <th>dice_means</th>\n",
       "        </tr>\n",
       "    </thead>\n",
       "    <tbody>\n",
       "        <tr>\n",
       "            <td>0.12062   </td>\n",
       "        </tr>\n",
       "    </tbody>\n",
       "</table>"
      ],
      "text/plain": [
       "dice_means\n",
       "0.12062"
      ]
     },
     "execution_count": 15,
     "metadata": {},
     "output_type": "execute_result"
    }
   ],
   "source": [
    "np.std(dice_table_200)"
   ]
  },
  {
   "cell_type": "markdown",
   "metadata": {},
   "source": [
    "> Since the sample size is much higher (by a factor of 4), we would expect the spread of the distribution to be narrower. We see this happening in the simulation, with most of the means falling between 3.2 and 3.8. The mean and median stay very close to 3.5. The standard deviation is approximately half of what it was with a sample size of 50, as might be expected when increasing the sample size by a factor of 4."
   ]
  },
  {
   "cell_type": "markdown",
   "metadata": {},
   "source": [
    "**f)** Suppose we were to change the 50 rolls to 15 rolls per trial instead. How would you expect the distribution of the means to change? Repeat part **b)** and **c)** using 15 instead of 50 and comment on any differences between the two."
   ]
  },
  {
   "cell_type": "code",
   "execution_count": 16,
   "metadata": {},
   "outputs": [],
   "source": [
    "dice_means_15 = make_array()\n",
    "\n",
    "for i in np.arange(1000):\n",
    "    dice_means_15 = np.append(dice_means_15, mean_roll(num = 15))"
   ]
  },
  {
   "cell_type": "code",
   "execution_count": 17,
   "metadata": {},
   "outputs": [
    {
     "data": {
      "image/png": "[encoded data removed]",
      "text/plain": [
       "<Figure size 432x288 with 1 Axes>"
      ]
     },
     "metadata": {},
     "output_type": "display_data"
    }
   ],
   "source": [
    "dice_table_15 = Table().with_column('dice_means', dice_means_15)\n",
    "dice_table_15.hist('dice_means',bins=20)"
   ]
  },
  {
   "cell_type": "code",
   "execution_count": 18,
   "metadata": {},
   "outputs": [
    {
     "data": {
      "text/html": [
       "<table border=\"1\" class=\"dataframe\">\n",
       "    <thead>\n",
       "        <tr>\n",
       "            <th>statistic</th> <th>dice_means</th>\n",
       "        </tr>\n",
       "    </thead>\n",
       "    <tbody>\n",
       "        <tr>\n",
       "            <td>min      </td> <td>1.93333   </td>\n",
       "        </tr>\n",
       "        <tr>\n",
       "            <td>max      </td> <td>4.73333   </td>\n",
       "        </tr>\n",
       "        <tr>\n",
       "            <td>median   </td> <td>3.46667   </td>\n",
       "        </tr>\n",
       "        <tr>\n",
       "            <td>sum      </td> <td>3493      </td>\n",
       "        </tr>\n",
       "    </tbody>\n",
       "</table>"
      ],
      "text/plain": [
       "statistic | dice_means\n",
       "min       | 1.93333\n",
       "max       | 4.73333\n",
       "median    | 3.46667\n",
       "sum       | 3493"
      ]
     },
     "execution_count": 18,
     "metadata": {},
     "output_type": "execute_result"
    }
   ],
   "source": [
    "dice_table_15.stats()"
   ]
  },
  {
   "cell_type": "code",
   "execution_count": 19,
   "metadata": {},
   "outputs": [
    {
     "data": {
      "text/html": [
       "<table border=\"1\" class=\"dataframe\">\n",
       "    <thead>\n",
       "        <tr>\n",
       "            <th>dice_means</th>\n",
       "        </tr>\n",
       "    </thead>\n",
       "    <tbody>\n",
       "        <tr>\n",
       "            <td>3.493     </td>\n",
       "        </tr>\n",
       "    </tbody>\n",
       "</table>"
      ],
      "text/plain": [
       "dice_means\n",
       "3.493"
      ]
     },
     "execution_count": 19,
     "metadata": {},
     "output_type": "execute_result"
    }
   ],
   "source": [
    "np.mean(dice_table_15)"
   ]
  },
  {
   "cell_type": "code",
   "execution_count": 20,
   "metadata": {},
   "outputs": [
    {
     "data": {
      "text/html": [
       "<table border=\"1\" class=\"dataframe\">\n",
       "    <thead>\n",
       "        <tr>\n",
       "            <th>dice_means</th>\n",
       "        </tr>\n",
       "    </thead>\n",
       "    <tbody>\n",
       "        <tr>\n",
       "            <td>0.45547   </td>\n",
       "        </tr>\n",
       "    </tbody>\n",
       "</table>"
      ],
      "text/plain": [
       "dice_means\n",
       "0.45547"
      ]
     },
     "execution_count": 20,
     "metadata": {},
     "output_type": "execute_result"
    }
   ],
   "source": [
    "np.std(dice_table_15)"
   ]
  },
  {
   "cell_type": "markdown",
   "metadata": {},
   "source": [
    "> Since the sample size is now lower, we would expect the spread of the distribution to be wider. We see this happening in the simulation, with most of the means falling between 2.5 and 4.5. The mean and median stay very close to 3.5, but the spread is much higher."
   ]
  },
  {
   "cell_type": "markdown",
   "metadata": {},
   "source": [
    "**g)** Suppose you are playing a game when you suddenly suspect that one of the dice being used is weighted to roll lower numbers more often. You secretly test it out by rolling it 50 times, and find that the mean of those 50 rolls for this die is 2.8. Does this provide evidence that the die is weighted? "
   ]
  },
  {
   "cell_type": "markdown",
   "metadata": {},
   "source": [
    "> Let's look at the distribution of the simulation with a sample size of 50 again. "
   ]
  },
  {
   "cell_type": "code",
   "execution_count": 21,
   "metadata": {},
   "outputs": [
    {
     "data": {
      "image/png": "[encoded data removed]",
      "text/plain": [
       "<Figure size 432x288 with 1 Axes>"
      ]
     },
     "metadata": {},
     "output_type": "display_data"
    }
   ],
   "source": [
    "dice_means_table.hist('dice_means',bins=20)"
   ]
  },
  {
   "cell_type": "markdown",
   "metadata": {},
   "source": [
    "> These simulations were done with a fair die, and show what we might expect the means of 50 die rolls to be with that fair die. We see in this histogram that a value of 2.8 would be very unlikely to happen, and is on the tails of the distribution. Because of this, we might say that this provides evidence that the die is weight and is not actually fair."
   ]
  },
  {
   "cell_type": "markdown",
   "metadata": {},
   "source": [
    "### Question 2. Ghosts and Income\n",
    "\n",
    "Suppose we wanted to answer the following question:\n",
    "\n",
    "**Does income differ according to belief in ghosts?**\n",
    "\n",
    "This is something we can use the Cards Against Humanity Pulse of the Nation poll to try to answer. For your convenience, we have made a subset of the data available to you in a CSV file called `201709-CAH_PulseOfTheNation.csv`. "
   ]
  },
  {
   "cell_type": "code",
   "execution_count": 22,
   "metadata": {},
   "outputs": [],
   "source": [
    "cah = Table.read_table('201709-CAH_PulseOfTheNation.csv')"
   ]
  },
  {
   "cell_type": "markdown",
   "metadata": {},
   "source": [
    "**a)** The question `'Do you believe in ghosts?'` has three categories: `Yes`, `No`, and `DK/REF`. To simplify our analysis, let's first take out the `DK/REF` group. Subset the data to remove each row containing `DK/REF` for the ghosts question."
   ]
  },
  {
   "cell_type": "code",
   "execution_count": 23,
   "metadata": {},
   "outputs": [
    {
     "data": {
      "text/html": [
       "<table border=\"1\" class=\"dataframe\">\n",
       "    <thead>\n",
       "        <tr>\n",
       "            <th>Do you believe in ghosts?</th> <th>count</th>\n",
       "        </tr>\n",
       "    </thead>\n",
       "    <tbody>\n",
       "        <tr>\n",
       "            <td>DK/REF                   </td> <td>8    </td>\n",
       "        </tr>\n",
       "        <tr>\n",
       "            <td>No                       </td> <td>187  </td>\n",
       "        </tr>\n",
       "        <tr>\n",
       "            <td>Yes                      </td> <td>115  </td>\n",
       "        </tr>\n",
       "    </tbody>\n",
       "</table>"
      ],
      "text/plain": [
       "Do you believe in ghosts? | count\n",
       "DK/REF                    | 8\n",
       "No                        | 187\n",
       "Yes                       | 115"
      ]
     },
     "execution_count": 23,
     "metadata": {},
     "output_type": "execute_result"
    }
   ],
   "source": [
    "# First confirm that there are only three categories.\n",
    "cah.group('Do you believe in ghosts?')"
   ]
  },
  {
   "cell_type": "code",
   "execution_count": 24,
   "metadata": {},
   "outputs": [],
   "source": [
    "# We'll also relabel the ghosts questions to make it easier to use.\n",
    "cah_clean = cah.where('Do you believe in ghosts?',are.not_equal_to('DK/REF')).relabeled('Do you believe in ghosts?','ghosts')\n"
   ]
  },
  {
   "cell_type": "markdown",
   "metadata": {},
   "source": [
    "**b)** Describe the `Income` and `Do you believe in ghosts?` variables. How do the incomes differ between the two groups?"
   ]
  },
  {
   "cell_type": "code",
   "execution_count": 25,
   "metadata": {},
   "outputs": [
    {
     "data": {
      "text/html": [
       "<table border=\"1\" class=\"dataframe\">\n",
       "    <thead>\n",
       "        <tr>\n",
       "            <th>ghosts</th> <th>Income mean</th>\n",
       "        </tr>\n",
       "    </thead>\n",
       "    <tbody>\n",
       "        <tr>\n",
       "            <td>No    </td> <td>92566.8    </td>\n",
       "        </tr>\n",
       "        <tr>\n",
       "            <td>Yes   </td> <td>97130.4    </td>\n",
       "        </tr>\n",
       "    </tbody>\n",
       "</table>"
      ],
      "text/plain": [
       "ghosts | Income mean\n",
       "No     | 92566.8\n",
       "Yes    | 97130.4"
      ]
     },
     "execution_count": 25,
     "metadata": {},
     "output_type": "execute_result"
    }
   ],
   "source": [
    "cah_clean.select('Income','ghosts').group('ghosts', np.mean)"
   ]
  },
  {
   "cell_type": "code",
   "execution_count": 26,
   "metadata": {},
   "outputs": [
    {
     "data": {
      "text/html": [
       "<table border=\"1\" class=\"dataframe\">\n",
       "    <thead>\n",
       "        <tr>\n",
       "            <th>ghosts</th> <th>Income median</th>\n",
       "        </tr>\n",
       "    </thead>\n",
       "    <tbody>\n",
       "        <tr>\n",
       "            <td>No    </td> <td>74000        </td>\n",
       "        </tr>\n",
       "        <tr>\n",
       "            <td>Yes   </td> <td>79000        </td>\n",
       "        </tr>\n",
       "    </tbody>\n",
       "</table>"
      ],
      "text/plain": [
       "ghosts | Income median\n",
       "No     | 74000\n",
       "Yes    | 79000"
      ]
     },
     "execution_count": 26,
     "metadata": {},
     "output_type": "execute_result"
    }
   ],
   "source": [
    "cah_clean.select('Income','ghosts').group('ghosts', np.median)"
   ]
  },
  {
   "cell_type": "code",
   "execution_count": 27,
   "metadata": {},
   "outputs": [
    {
     "data": {
      "text/html": [
       "<table border=\"1\" class=\"dataframe\">\n",
       "    <thead>\n",
       "        <tr>\n",
       "            <th>ghosts</th> <th>Income std</th>\n",
       "        </tr>\n",
       "    </thead>\n",
       "    <tbody>\n",
       "        <tr>\n",
       "            <td>No    </td> <td>74290.8   </td>\n",
       "        </tr>\n",
       "        <tr>\n",
       "            <td>Yes   </td> <td>81060.2   </td>\n",
       "        </tr>\n",
       "    </tbody>\n",
       "</table>"
      ],
      "text/plain": [
       "ghosts | Income std\n",
       "No     | 74290.8\n",
       "Yes    | 81060.2"
      ]
     },
     "execution_count": 27,
     "metadata": {},
     "output_type": "execute_result"
    }
   ],
   "source": [
    "cah_clean.select('Income','ghosts').group('ghosts', np.std)"
   ]
  },
  {
   "cell_type": "code",
   "execution_count": 28,
   "metadata": {},
   "outputs": [
    {
     "data": {
      "text/plain": [
       "Text(0.5, 1.0, 'Income of Ghost Believers')"
      ]
     },
     "execution_count": 28,
     "metadata": {},
     "output_type": "execute_result"
    },
    {
     "data": {
      "image/png": "[encoded data removed]",
      "text/plain": [
       "<Figure size 432x288 with 1 Axes>"
      ]
     },
     "metadata": {},
     "output_type": "display_data"
    }
   ],
   "source": [
    "cah_clean.select('Income','ghosts').where('ghosts','Yes').hist('Income')\n",
    "plots.title('Income of Ghost Believers')"
   ]
  },
  {
   "cell_type": "code",
   "execution_count": 29,
   "metadata": {},
   "outputs": [
    {
     "data": {
      "text/plain": [
       "Text(0.5, 1.0, 'Income of Ghost Non-believers')"
      ]
     },
     "execution_count": 29,
     "metadata": {},
     "output_type": "execute_result"
    },
    {
     "data": {
      "image/png": "[encoded data removed]",
      "text/plain": [
       "<Figure size 432x288 with 1 Axes>"
      ]
     },
     "metadata": {},
     "output_type": "display_data"
    }
   ],
   "source": [
    "cah_clean.select('Income','ghosts').where('ghosts','No').hist('Income')\n",
    "plots.title('Income of Ghost Non-believers')"
   ]
  },
  {
   "cell_type": "markdown",
   "metadata": {},
   "source": [
    "> The mean and median of income seem to be slightly higher for the \"Yes\" group. The standard deviation of the \"Yes\" group is also slightly higher. Both histograms look right skewed, with a long right tail."
   ]
  },
  {
   "cell_type": "markdown",
   "metadata": {},
   "source": [
    "**c)** Just from observing the data, it can be hard to tell if there is a real difference, or if the difference is due to random chance. One way of deciding whether a difference is too big to be attributed to random chance is through simulations.\n",
    "\n",
    "To simulate a situation in which these variables are unrelated, we can **shuffle** the ghosts variable, randomizing who answered `Yes` and who answered `No` to that question. This ensures that the two variables are unrelated (since one of them is now chosen at random). Then, we can see what kind of differences we observe in `Income` between the two groups.\n",
    "\n",
    "Create a new Table called `shuffled_ghosts` with shuffled answers for the ghosts question.\n",
    "\n",
    "**Hint:** First, create a table called `shuffled_ghosts` with the same Table as in `cah`. Then, use `np.random.shuffle` to shuffle just the ghosts column in `shuffled_ghosts`."
   ]
  },
  {
   "cell_type": "code",
   "execution_count": 30,
   "metadata": {},
   "outputs": [],
   "source": [
    "shuffled_ghosts = cah_clean\n",
    "np.random.shuffle(shuffled_ghosts.column('ghosts'))"
   ]
  },
  {
   "cell_type": "markdown",
   "metadata": {},
   "source": [
    "**d)** What is the difference in mean Income between the two groups in the shuffled data? Present your answer as \"Yes group Income\" - \"No group Income\", with the proper sign (that is, the number should be negative if the \"No group Income\" is higher."
   ]
  },
  {
   "cell_type": "code",
   "execution_count": 31,
   "metadata": {},
   "outputs": [
    {
     "data": {
      "text/plain": [
       "2063.8921181120677"
      ]
     },
     "execution_count": 31,
     "metadata": {},
     "output_type": "execute_result"
    }
   ],
   "source": [
    "mean_tab = shuffled_ghosts.select('Income','ghosts').group('ghosts', np.mean)\n",
    "mean_tab.column('Income mean')[1] - mean_tab.column('Income mean')[0]"
   ]
  },
  {
   "cell_type": "markdown",
   "metadata": {},
   "source": [
    "> Note that due to randomness, the difference will be different every time. The above answer is the difference."
   ]
  },
  {
   "cell_type": "markdown",
   "metadata": {},
   "source": [
    "**e)** Create an array called `income_diff`. Repeat the shuffling 1000 times, and record the difference in Income between the two groups for each in `income_diff`."
   ]
  },
  {
   "cell_type": "code",
   "execution_count": 32,
   "metadata": {},
   "outputs": [],
   "source": [
    "# Let's first make a function that finds this difference after shuffling\n",
    "def shuffle_mean():\n",
    "    np.random.shuffle(shuffled_ghosts.column('ghosts'))\n",
    "    mean_tab = shuffled_ghosts.select('Income','ghosts').group('ghosts', np.mean)\n",
    "    return mean_tab.column('Income mean')[1] - mean_tab.column('Income mean')[0]"
   ]
  },
  {
   "cell_type": "code",
   "execution_count": 33,
   "metadata": {},
   "outputs": [],
   "source": [
    "income_diff = make_array()\n",
    "\n",
    "for i in np.arange(1000):\n",
    "    income_diff = np.append(income_diff, shuffle_mean())"
   ]
  },
  {
   "cell_type": "markdown",
   "metadata": {},
   "source": [
    "**f)** Use numerical and graphical summaries to describe the distribution of `income_diff`. "
   ]
  },
  {
   "cell_type": "code",
   "execution_count": 34,
   "metadata": {},
   "outputs": [
    {
     "data": {
      "text/html": [
       "<table border=\"1\" class=\"dataframe\">\n",
       "    <thead>\n",
       "        <tr>\n",
       "            <th>statistic</th> <th>Income Difference</th>\n",
       "        </tr>\n",
       "    </thead>\n",
       "    <tbody>\n",
       "        <tr>\n",
       "            <td>min      </td> <td>-23522.9         </td>\n",
       "        </tr>\n",
       "        <tr>\n",
       "            <td>max      </td> <td>28577.5          </td>\n",
       "        </tr>\n",
       "        <tr>\n",
       "            <td>median   </td> <td>-386.654         </td>\n",
       "        </tr>\n",
       "        <tr>\n",
       "            <td>sum      </td> <td>-411960          </td>\n",
       "        </tr>\n",
       "    </tbody>\n",
       "</table>"
      ],
      "text/plain": [
       "statistic | Income Difference\n",
       "min       | -23522.9\n",
       "max       | 28577.5\n",
       "median    | -386.654\n",
       "sum       | -411960"
      ]
     },
     "execution_count": 34,
     "metadata": {},
     "output_type": "execute_result"
    }
   ],
   "source": [
    "diff = Table().with_columns('Income Difference', income_diff)\n",
    "diff.stats()"
   ]
  },
  {
   "cell_type": "code",
   "execution_count": 35,
   "metadata": {},
   "outputs": [
    {
     "data": {
      "text/html": [
       "<table border=\"1\" class=\"dataframe\">\n",
       "    <thead>\n",
       "        <tr>\n",
       "            <th>Income Difference</th>\n",
       "        </tr>\n",
       "    </thead>\n",
       "    <tbody>\n",
       "        <tr>\n",
       "            <td>-411.96          </td>\n",
       "        </tr>\n",
       "    </tbody>\n",
       "</table>"
      ],
      "text/plain": [
       "Income Difference\n",
       "-411.96"
      ]
     },
     "execution_count": 35,
     "metadata": {},
     "output_type": "execute_result"
    }
   ],
   "source": [
    "np.mean(diff)"
   ]
  },
  {
   "cell_type": "code",
   "execution_count": 36,
   "metadata": {},
   "outputs": [
    {
     "data": {
      "text/html": [
       "<table border=\"1\" class=\"dataframe\">\n",
       "    <thead>\n",
       "        <tr>\n",
       "            <th>Income Difference</th>\n",
       "        </tr>\n",
       "    </thead>\n",
       "    <tbody>\n",
       "        <tr>\n",
       "            <td>8886.84          </td>\n",
       "        </tr>\n",
       "    </tbody>\n",
       "</table>"
      ],
      "text/plain": [
       "Income Difference\n",
       "8886.84"
      ]
     },
     "execution_count": 36,
     "metadata": {},
     "output_type": "execute_result"
    }
   ],
   "source": [
    "np.std(diff)"
   ]
  },
  {
   "cell_type": "code",
   "execution_count": 37,
   "metadata": {},
   "outputs": [
    {
     "data": {
      "image/png": "[encoded data removed]",
      "text/plain": [
       "<Figure size 432x288 with 1 Axes>"
      ]
     },
     "metadata": {},
     "output_type": "display_data"
    }
   ],
   "source": [
    "diff.hist(bins=20)"
   ]
  },
  {
   "cell_type": "markdown",
   "metadata": {},
   "source": [
    "> The histogram shows that the center of the distribution is very close to 0, and the mean and the median are quite low, supporting this conclusion. They are also very close to each other, indicating a symmetric distribution. The histogram supports this, and shows a unimodal bell-shaped distribution. The standard deviation is about 9,300, and the most of the difference in means is between -20,000 and 20,000."
   ]
  },
  {
   "cell_type": "markdown",
   "metadata": {},
   "source": [
    "**g)** Do you think that the difference you found in part **b)** could be due to random chance? Or is it unlikely to be due to random chance, and should be considered a significant difference between the two groups?"
   ]
  },
  {
   "cell_type": "markdown",
   "metadata": {},
   "source": [
    "> Yes, it could be due to random chance. The difference we found in part b was less than 10,000. This is still within the range of reasonable values if there were no real difference between the two groups. Our simulation showed that anything between -20,000 and 20,000 as the difference between the means is a reasonable and could happen due to random chance."
   ]
  },
  {
   "cell_type": "markdown",
   "metadata": {},
   "source": [
    "**h)** Suppose you had found a significant difference in part **g)** (whether or not you did). Would you be able to say that belief in ghosts causes a difference in income?"
   ]
  },
  {
   "cell_type": "markdown",
   "metadata": {},
   "source": [
    "> We can't make a statement about causation because this was not an experiment. These are simply correlated, and there could be various confounding factors that might explain why there is a relationship."
   ]
  }
 ],
 "metadata": {
  "kernelspec": {
   "display_name": "Python 3",
   "language": "python",
   "name": "python3"
  },
  "language_info": {
   "codemirror_mode": {
    "name": "ipython",
    "version": 3
   },
   "file_extension": ".py",
   "mimetype": "text/x-python",
   "name": "python",
   "nbconvert_exporter": "python",
   "pygments_lexer": "ipython3",
   "version": "3.7.3"
  },
  "toc": {
   "base_numbering": 1,
   "nav_menu": {},
   "number_sections": false,
   "sideBar": false,
   "skip_h1_title": false,
   "title_cell": "Table of Contents",
   "title_sidebar": "Contents",
   "toc_cell": false,
   "toc_position": {},
   "toc_section_display": false,
   "toc_window_display": false
  }
 },
 "nbformat": 4,
 "nbformat_minor": 4
}
