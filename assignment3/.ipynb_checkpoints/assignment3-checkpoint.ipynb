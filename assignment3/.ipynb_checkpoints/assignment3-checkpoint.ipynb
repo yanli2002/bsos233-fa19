{
 "cells": [
  {
   "cell_type": "markdown",
   "metadata": {},
   "source": [
    "# Assignment 3: Simulations and the Central Limit Theorem\n",
    "\n",
    "This assignment covers **Chapters 9-10** from the textbook as well as lecture material from Weeks 5-6. Please complete this assignment by providing answers in cells after the question. Use **Code** cells to write and run any code you need to answer the question and **Markdown** cells to write out answers in words. After you are finished with the assignment, remember to download it as an **HTML file** and submit it in **ELMS**.\n",
    "\n",
    "This assignment is due by **11:59pm on Friday, October 4**. Revisions are due by **11:59pm on Friday, October 11**."
   ]
  },
  {
   "cell_type": "code",
   "execution_count": 1,
   "metadata": {},
   "outputs": [],
   "source": [
    "import numpy as np\n",
    "from datascience import *\n",
    "\n",
    "\n",
    "# These lines do some fancy plotting magic.\n",
    "import matplotlib\n",
    "%matplotlib inline\n",
    "import matplotlib.pyplot as plots\n",
    "\n",
    "# This is if you want your plots to have the FiveThirtyEight style\n",
    "plots.style.use('fivethirtyeight')"
   ]
  },
  {
   "cell_type": "markdown",
   "metadata": {},
   "source": [
    "### Question 1. Rolling Dice\n",
    "\n"
   ]
  },
  {
   "cell_type": "markdown",
   "metadata": {},
   "source": [
    "**a)** Define a function called `die_roll` with no parameters that randomly \"rolls a die\" (that is, randomly generates a number from one to six) and returns the result. Then, define a function called `mean_roll` with one parameter (`num`) that calls `die_roll` and returns the mean of `num` die rolls.\n",
    "\n",
    "For example, if you want to roll a die 20 times and find the mean of those 20 rolls, you should be able to use:\n",
    "   \n",
    "    mean_roll(num = 20)\n",
    "    \n",
    "Find the mean of rolling a die 50 times. (Note: Due to randomness, not everyone will have the same answer)"
   ]
  },
  {
   "cell_type": "markdown",
   "metadata": {},
   "source": [
    "**b)** Repeat the process of 50 die rolls 1000 times and record the mean of each trial. Store the 1000 means in an array called `dice_means`. (**Hint:** Don't try to manually do the 1000 trials of 50 rolls! Use a `for` loop!)"
   ]
  },
  {
   "cell_type": "markdown",
   "metadata": {},
   "source": [
    "**c)** Describe the distribution of the 1000 means. Use numerical and graphical summaries. What is the shape? The center? The spread?"
   ]
  },
  {
   "cell_type": "markdown",
   "metadata": {},
   "source": [
    "**d)** On average, the theoretical mean die roll should be 3.5. That is, if all of the numbers are equally likely, then each number has a 1/6 chance of being selected, giving an expected value of 3.5. However, as you may have noticed from the above simulations, there was some variation -- while most of the means were close to 3.5, they were slightly off due to randomness. Still, there was a range of values that were likely to be the mean, centered around approximately 3.5. Based on the distribution from part **c)**, what at values of the mean would you consider to be highly unlikely? "
   ]
  },
  {
   "cell_type": "markdown",
   "metadata": {},
   "source": [
    "**e)** Suppose we were to change the 50 rolls to 200 rolls per trial instead. How would you expect the distribution of the means to change? Repeat part **b)** and **c)** using 200 instead of 50 and comment on any differences between the two."
   ]
  },
  {
   "cell_type": "markdown",
   "metadata": {},
   "source": [
    "**f)** Suppose we were to change the 50 rolls to 15 rolls per trial instead. How would you expect the distribution of the means to change? Repeat part **b)** and **c)** using 15 instead of 50 and comment on any differences between the two."
   ]
  },
  {
   "cell_type": "markdown",
   "metadata": {},
   "source": [
    "**g)** Suppose you are playing a game when you suddenly suspect that one of the dice being used is weighted to roll lower numbers more often. You secretly test it out by rolling it 50 times, and find that the mean of those 50 rolls for this die is 2.8. Does this provide evidence that the die is weighted? "
   ]
  },
  {
   "cell_type": "markdown",
   "metadata": {},
   "source": [
    "### Question 2. Ghosts and Income\n",
    "\n",
    "Suppose we wanted to answer the following question:\n",
    "\n",
    "**Does income differ according to belief in ghosts?**\n",
    "\n",
    "This is something we can use the Cards Against Humanity Pulse of the Nation poll to try to answer. For your convenience, we have made a subset of the data available to you in a CSV file called `201709-CAH_PulseOfTheNation.csv`. "
   ]
  },
  {
   "cell_type": "code",
   "execution_count": 57,
   "metadata": {},
   "outputs": [],
   "source": [
    "cah = Table.read_table('201709-CAH_PulseOfTheNation.csv')"
   ]
  },
  {
   "cell_type": "markdown",
   "metadata": {},
   "source": [
    "**a)** The question `'Do you believe in ghosts?'` has three categories: `Yes`, `No`, and `DK/REF`. To simplify our analysis, let's first take out the `DK/REF` group. Subset the data to remove each row containing `DK/REF` for the ghosts question."
   ]
  },
  {
   "cell_type": "markdown",
   "metadata": {},
   "source": [
    "**b)** Describe the `Income` and `Do you believe in ghosts?` variables. How do the incomes differ between the two groups?"
   ]
  },
  {
   "cell_type": "markdown",
   "metadata": {},
   "source": [
    "**c)** Just from observing the data, it can be hard to tell if there is a real difference, or if the difference is due to random chance. One way of deciding whether a difference is too big to be attributed to random chance is through simulations.\n",
    "\n",
    "To simulate a situation in which these variables are unrelated, we can **shuffle** the ghosts variable, randomizing who answered `Yes` and who answered `No` to that question. This ensures that the two variables are unrelated (since one of them is now chosen at random). Then, we can see what kind of differences we observe in `Income` between the two groups.\n",
    "\n",
    "Create a new Table called `shuffled_ghosts` with shuffled answers for the ghosts question.\n",
    "\n",
    "**Hint:** First, create a table called `shuffled_ghosts` with the same Table as in `cah`. Then, use `np.random.shuffle` to shuffle just the ghosts column in `shuffled_ghosts`."
   ]
  },
  {
   "cell_type": "markdown",
   "metadata": {},
   "source": [
    "**d)** What is the difference in mean Income between the two groups in the shuffled data? Present your answer as \"Yes group Income\" - \"No group Income\", with the proper sign (that is, the number should be negative if the \"No group Income\" is higher."
   ]
  },
  {
   "cell_type": "markdown",
   "metadata": {},
   "source": [
    "**e)** Create an array called `income_diff`. Repeat the shuffling 1000 times, and record the difference in Income between the two groups for each in `income_diff`."
   ]
  },
  {
   "cell_type": "markdown",
   "metadata": {},
   "source": [
    "**f)** Use numerical and graphical summaries to describe the distribution of `income_diff`. "
   ]
  },
  {
   "cell_type": "markdown",
   "metadata": {},
   "source": [
    "**g)** Do you think that the difference you found in part **b)** could be due to random chance? Or is it unlikely to be due to random chance, and should be considered a significant difference between the two groups?"
   ]
  },
  {
   "cell_type": "markdown",
   "metadata": {},
   "source": [
    "**h)** Suppose you had found a significant difference in part **g)** (whether or not you did). Would you be able to say that belief in ghosts causes a difference in income?"
   ]
  }
 ],
 "metadata": {
  "kernelspec": {
   "display_name": "Python 3",
   "language": "python",
   "name": "python3"
  },
  "language_info": {
   "codemirror_mode": {
    "name": "ipython",
    "version": 3
   },
   "file_extension": ".py",
   "mimetype": "text/x-python",
   "name": "python",
   "nbconvert_exporter": "python",
   "pygments_lexer": "ipython3",
   "version": "3.7.2"
  },
  "toc": {
   "base_numbering": 1,
   "nav_menu": {},
   "number_sections": false,
   "sideBar": false,
   "skip_h1_title": false,
   "title_cell": "Table of Contents",
   "title_sidebar": "Contents",
   "toc_cell": false,
   "toc_position": {},
   "toc_section_display": false,
   "toc_window_display": false
  }
 },
 "nbformat": 4,
 "nbformat_minor": 2
}
