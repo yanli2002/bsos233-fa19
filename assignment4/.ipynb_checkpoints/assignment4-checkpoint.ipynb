{
 "cells": [
  {
   "cell_type": "markdown",
   "metadata": {},
   "source": [
    "# Assignment 4: Hypothesis Testing and Confidence Intervals\n",
    "\n",
    "This assignment covers **Chapters 11-13** from the textbook as well as lecture material from Weeks 7-8. Please complete this assignment by providing answers in cells after the question. Use **Code** cells to write and run any code you need to answer the question and **Markdown** cells to write out answers in words. After you are finished with the assignment, remember to download it as an **HTML file** and submit it in **ELMS**.\n",
    "\n",
    "This assignment is due by **11:59pm on Friday, October 18**. Revisions are due by **11:59pm on Friday, October 25**."
   ]
  },
  {
   "cell_type": "code",
   "execution_count": 1,
   "metadata": {},
   "outputs": [],
   "source": [
    "import numpy as np\n",
    "from datascience import *\n",
    "\n",
    "\n",
    "# These lines do some fancy plotting magic.\n",
    "import matplotlib\n",
    "%matplotlib inline\n",
    "import matplotlib.pyplot as plots\n",
    "\n",
    "# This is if you want your plots to have the FiveThirtyEight style\n",
    "plots.style.use('fivethirtyeight')"
   ]
  },
  {
   "cell_type": "markdown",
   "metadata": {},
   "source": [
    "### Data Analysis Mini-Project\n",
    "\n",
    "Consider the Cards Against Humanity Pulse of the Nation dataset, provided in `201709-CAH_PulseOfTheNation.csv`. "
   ]
  },
  {
   "cell_type": "code",
   "execution_count": null,
   "metadata": {},
   "outputs": [],
   "source": [
    "cah = Table.read_table('201709-CAH_PulseOfTheNation.csv')"
   ]
  },
  {
   "cell_type": "markdown",
   "metadata": {},
   "source": [
    "So far in this class, we've started out by using numerical and graphical summaries to describe data, then used simulations to be able to make more meaningful conclusions about the data. In this question, you will need to combine all of that together to write up a report using this dataset (which you should hopefully be very familiar with by now).\n",
    "\n",
    "Suppose you are working for a public opinion research company, and you have been tasked with finding out characteristics about people based on their political party. In particular, the company wants to know how people from different political parties differ in their opinions as well as their demographics (age, gender, race, etc.). Your research will help inform future surveys to gauge public opinion based on the political party.\n",
    "\n",
    "**Write a report** based on the Pulse of the Nation dataset. Make sure to include:\n",
    "- A clear description of the **question of interest** and the variables you are studying.\n",
    "- **Descriptive statistics and visualizations** that help the reader understand the data better.\n",
    "- At least **one hypothesis test** using simulations.\n",
    "- At least **one bootstrap confidence interval**.\n",
    "- A clear **conclusion** based on your analysis.\n",
    "\n",
    "You do not need to look at every single variable in the dataset! Choose **at least two different variables (in addition to Political Affiliation)** to examine. Not all variables might be used in the final report, but try to look at a few different ones to start out. Make sure you have a reason for looking at the variables that you did, and motivate why you chose those variables in the introduction. Write your report in a separate Jupyter Notebook, formatting it so that the code is included with the text. Make sure to include a title and section headings by using '#' symbols in Markdown formatting.\n",
    "\n",
    "### Some Notes\n",
    "\n",
    "You will likely do some analysis that doesn't make it into the final submission of your mini-project report. Include them in an appendix section at the end! This might include\n",
    "- Preliminary graphs and summary statistics of variables you considered, but didn't use\n",
    "- Data cleaning steps \n",
    "- More in-depth discussion of the simulations you performed for your hypothesis test and confidence interval"
   ]
  }
 ],
 "metadata": {
  "kernelspec": {
   "display_name": "Python 3",
   "language": "python",
   "name": "python3"
  },
  "language_info": {
   "codemirror_mode": {
    "name": "ipython",
    "version": 3
   },
   "file_extension": ".py",
   "mimetype": "text/x-python",
   "name": "python",
   "nbconvert_exporter": "python",
   "pygments_lexer": "ipython3",
   "version": "3.7.3"
  }
 },
 "nbformat": 4,
 "nbformat_minor": 4
}
