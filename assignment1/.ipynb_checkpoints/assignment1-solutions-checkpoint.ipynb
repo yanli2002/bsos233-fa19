{
 "cells": [
  {
   "cell_type": "markdown",
   "metadata": {},
   "source": [
    "# Assignment 1: Introduction to Python and Working with Data\n",
    "\n",
    "This assignment covers **Chapters 1-6** from the textbook as well as lecture material from the first two weeks. Please complete this assignment by providing answers in cells after the question. Use **Code** cells to write and run any code you need to answer the question and **Markdown** cells to write out answers in words. After you are finished with the assignment, remember to download it as an **HTML file** and submit it in **ELMS**.\n",
    "\n",
    "This assignment is due by **11:59pm on Friday, September 6**. Revisions are due by **11:59pm on Friday, September 13**."
   ]
  },
  {
   "cell_type": "markdown",
   "metadata": {},
   "source": [
    "### Question 1. Job Opportunities & Education in Rural India\n",
    "\n",
    "Consider the following scenario:\n",
    "\n",
    "> A [study](http://www.nber.org/papers/w16021.pdf) at UCLA investigated factors that might result in greater attention to the health and education of girls in rural India. One such factor is information about job opportunities for women. The idea is that if people know that educated women can get good jobs, they might take more care of the health and education of girls in their families, as an investment in the girls’ future potential as earners. Without the knowledge of job opportunities, the author hypothesizes that families invest less in their women, and instead, invest in their men.  \n",
    "\n",
    "> The study focused on 160 villages outside the capital of India, all with little access to information about call centers and similar organizations that offer job opportunities to women. In 80 of the villages chosen at random, recruiters visited the village, described the opportunities, recruited women who had some English language proficiency and experience with computers, and provided ongoing support free of charge for three years. In the other 80 villages, no recruiters visited and no other intervention was made.\n",
    "\n",
    "> At the end of the study period, the researchers recorded data about the school attendance and health of the children in the villages."
   ]
  },
  {
   "cell_type": "markdown",
   "metadata": {},
   "source": [
    "##### a) Was this an experiment or an observational study? \n",
    "\n",
    "It is a randomized controlled trial (RCT). From **Chapter 2**: *\"An observational study is one in which scientists make conclusions based on data that they have observed but had no hand in generating. If you are able to randomize individuals into the treatment and control groups, you are running a randomized controlled experiment, also known as a randomized controlled trial (RCT).\"* \n",
    "\n",
    "In this case, the villages were chosen at random and separated into treatment and control groups."
   ]
  },
  {
   "cell_type": "markdown",
   "metadata": {},
   "source": [
    "##### b) What are the *treatment* and *control* groups?\n",
    "\n",
    "The treatment group consists of the villages in which interventions took place (e.g. recruiters visited), and the control group consists of villages in which no interventions took place. From **Chapter 2.1**: *\"Scientists use comparison to identify an association between a treatment and an outcome. They compare the outcomes of a group of individuals who got the treatment (the treatment group) to the outcomes of a group who did not (the control group).\"* "
   ]
  },
  {
   "cell_type": "markdown",
   "metadata": {},
   "source": [
    "##### c) The study reported, “Girls aged 5-15 in villages that received the recruiting services were 3 to 5 percentage points more likely to be in school and experienced an increase in Body Mass Index, reflecting greater nutrition and/or medical care. However, there was no net gain in height. For boys, there was no change in any of these measures.” Why do you think the author points out the lack of change in the boys?\n",
    "\n",
    "Boys got good care of their health and education in their families with or without interventions. This lets researchers see if there was a general trend of better care (that may have been affecting girls as well as boys) or if the changes were isolated to the girls."
   ]
  },
  {
   "cell_type": "markdown",
   "metadata": {},
   "source": [
    "### Question 2. Nearsightedness Study\n",
    "\n",
    "Myopia, or nearsightedness, results from a number of genetic and environmental factors. In 1999, Quinn et al studied the relation between myopia and ambient lighting at night (for example, from nightlights or room lights) during childhood."
   ]
  },
  {
   "cell_type": "markdown",
   "metadata": {},
   "source": [
    "##### a) The data were gathered by the following procedure, reported in the study. “Between January and June 1998, parents of children aged 2-16 years [...] that were seen as outpatients in a university pediatric ophthalmology clinic completed a questionnaire on the child’s light exposure both at present and before the age of 2 years.” Was this study observational, or was it a controlled experiment? Explain. \n",
    "\n",
    "Observational study. \"An observational study is one in which scientists make conclusions based on data that they have observed but had no hand in generating.\" The data were collected via a questionnaire, and the researchers did not do anything to randomly assign participants to different treatment conditions."
   ]
  },
  {
   "cell_type": "markdown",
   "metadata": {},
   "source": [
    "##### b) The study found that of the children who slept with a room light on before the age of 2, 55% were myopic. Of the children who slept with a night light on before the age of 2, 34% were myopic. Of the children who slept in the dark before the age of 2, 10% were myopic. The study concluded that, \"The prevalence of myopia [...] during childhood was strongly associated with ambient light exposure during sleep at night in the first two years after birth.\"\n",
    "\n",
    "##### Do the data support this statement? You may interpret “strongly” in any reasonable qualitative way.\n",
    "\n",
    "We can think of \"lights\" as an ordinal categorical variable: lit (room light), slightly lit (night light), or not lit (no light). It seems from the data as though more light is associated with myopia, since the highest proportion were myopic with the most light, a lower proportion with some light, and the lowest with no light. However, we need to be careful about making statements about how strong this association, as we do not know enough about the study. "
   ]
  },
  {
   "cell_type": "markdown",
   "metadata": {},
   "source": [
    "##### c) On May 13, 1999, CNN reported the results of this study under the headline, “Night light may lead to nearsightedness.” Does the conclusion of the study claim that night light causes nearsightedness?\n",
    "\n",
    "No, at best it shows some association. Since it is an observational study, we cannot make statements about causation."
   ]
  },
  {
   "cell_type": "markdown",
   "metadata": {},
   "source": [
    "##### d) The final paragraph of the CNN report said that “several eye specialists” had pointed out that the study should have accounted for heredity.\n",
    "\n",
    "##### Myopia is passed down from parents to children. It's also reasonable to suppose that myopic parents are more likely to leave lights on in their children's rooms than other parents. In what way does the knowledge of this possible genetic link affect how we consider the data?\n",
    "\n",
    "Myopic parents tend to pass down myopia to their children and leave lights on in their children's rooms, and therefore is a confounder.  Without controlling for \"myopic parents,\" you don't know \"myopic children\" is due to heredity or due to the lights on in their children's rooms."
   ]
  },
  {
   "cell_type": "markdown",
   "metadata": {},
   "source": [
    "### Question 3. Python\n",
    "\n",
    "For each question below, use Python to find the answer. Remember to show all work and include all code used to reach your solution. You may need some Python libraries in order to do this portion of the assignments."
   ]
  },
  {
   "cell_type": "code",
   "execution_count": 1,
   "metadata": {},
   "outputs": [],
   "source": [
    "from datascience import *"
   ]
  },
  {
   "cell_type": "markdown",
   "metadata": {},
   "source": [
    "**a)** What is the value of $3*3 + 2 $?"
   ]
  },
  {
   "cell_type": "code",
   "execution_count": 2,
   "metadata": {},
   "outputs": [
    {
     "data": {
      "text/plain": [
       "11"
      ]
     },
     "execution_count": 2,
     "metadata": {},
     "output_type": "execute_result"
    }
   ],
   "source": [
    "3*3+2"
   ]
  },
  {
   "cell_type": "markdown",
   "metadata": {},
   "source": [
    "**b)** Create new objects called `interest`, `money`, and `years`. Calculate how much money you will have in 10 years if you start out with $10,000 and earn interest yearly at a rate of 2%."
   ]
  },
  {
   "cell_type": "code",
   "execution_count": 3,
   "metadata": {},
   "outputs": [
    {
     "data": {
      "text/plain": [
       "12189.944199947573"
      ]
     },
     "execution_count": 3,
     "metadata": {},
     "output_type": "execute_result"
    }
   ],
   "source": [
    "money = 10000\n",
    "years = 10\n",
    "interest = 0.02\n",
    "money*(1 + interest) ** years"
   ]
  },
  {
   "cell_type": "markdown",
   "metadata": {},
   "source": [
    "**c)** Create an array that has five values in it: 0, 1, 2, 3, 4. Assign it to `a`. Add 5 to each number, then multiply each number by 3. Find the sum of each number in the array. "
   ]
  },
  {
   "cell_type": "code",
   "execution_count": 4,
   "metadata": {},
   "outputs": [
    {
     "data": {
      "text/plain": [
       "105"
      ]
     },
     "execution_count": 4,
     "metadata": {},
     "output_type": "execute_result"
    }
   ],
   "source": [
    "a=make_array(0,1,2,3,4)\n",
    "sum((a+5)*3)"
   ]
  },
  {
   "cell_type": "code",
   "execution_count": 5,
   "metadata": {},
   "outputs": [
    {
     "data": {
      "text/plain": [
       "105"
      ]
     },
     "execution_count": 5,
     "metadata": {},
     "output_type": "execute_result"
    }
   ],
   "source": [
    "# Alternatively, we can break it up into more steps\n",
    "\n",
    "a=make_array(0,1,2,3,4)\n",
    "a = a + 5\n",
    "a = a * 3\n",
    "sum(a)"
   ]
  },
  {
   "cell_type": "markdown",
   "metadata": {},
   "source": [
    "**d)** Print out a string that says \"The answer to part c is \\_\", where the blank is filled with the answer to part c."
   ]
  },
  {
   "cell_type": "code",
   "execution_count": 6,
   "metadata": {},
   "outputs": [
    {
     "data": {
      "text/plain": [
       "'The answer to part c is 105'"
      ]
     },
     "execution_count": 6,
     "metadata": {},
     "output_type": "execute_result"
    }
   ],
   "source": [
    "a=make_array(0,1,2,3,4)\n",
    "solution = sum((a+5)*3)\n",
    "\n",
    "\"The\"+\" \"+\"answer\"+\" \"+\"to\"+\" \"+\"part\"+\" \"+\"c\"+\" \"+\"is\"+\" \"+ str(solution)"
   ]
  },
  {
   "cell_type": "markdown",
   "metadata": {},
   "source": [
    "### Question 4. Cards Against Humanity - Pulse of the Nation Public Opinion Poll\n",
    "\n",
    "In 2017, Cards Against Humanity partnered with Survey Sampling International to conduct a poll of the American public. A series of these were run monthly, with a different sample and questions changing over each month. Each survey included basic demographic information, such as Gender and Age, as well as a series of questions about opinion, lifestyle, or knowledge . As might be expected from a poll run by Cards Against Humanity, the questions varied from serious to silly and seemingly irrelevant. \n",
    "\n",
    "The data and descriptions of what questions were asked are available on Kaggle through [this link](https://www.kaggle.com/cardsagainsthumanity/pulse-of-the-nation/). For your convenience, we have made a subset of the data available to you in a CSV file called `201709-CAH_PulseOfTheNation.csv`. In this question, we will explore the survey and practice working with the data in Python."
   ]
  },
  {
   "cell_type": "markdown",
   "metadata": {},
   "source": [
    "Remember, before you begin, you should import any libraries that you might need."
   ]
  },
  {
   "cell_type": "code",
   "execution_count": 7,
   "metadata": {},
   "outputs": [],
   "source": [
    "import numpy as np"
   ]
  },
  {
   "cell_type": "markdown",
   "metadata": {},
   "source": [
    "**a)** Read in the dataset in the file `201709-CAH_PulseOfTheNation.csv` as a Table. Call the table `cah`."
   ]
  },
  {
   "cell_type": "code",
   "execution_count": 8,
   "metadata": {},
   "outputs": [],
   "source": [
    "cah = Table.read_table('201709-CAH_PulseOfTheNation.csv')"
   ]
  },
  {
   "cell_type": "markdown",
   "metadata": {},
   "source": [
    "**b)** Display the names of each of the columns of `cah`. "
   ]
  },
  {
   "cell_type": "code",
   "execution_count": 9,
   "metadata": {},
   "outputs": [
    {
     "data": {
      "text/plain": [
       "('Income',\n",
       " 'Gender',\n",
       " 'Age',\n",
       " 'Age Range',\n",
       " 'Political Affiliation',\n",
       " 'Do you approve or disapprove of how Donald Trump is handling his job as president?',\n",
       " 'What is your highest level of education? ',\n",
       " 'What is your race?',\n",
       " 'What is your marital status?',\n",
       " 'What would you say is the likelihood that your current job will be entirely performed by robots or computers within the next decade?',\n",
       " 'Do you believe that climate change is real and caused by people, real but not caused by people, or not real at all?',\n",
       " 'How many Transformers movies have you seen? ',\n",
       " 'Do you agree or disagree with the following statement: scientists are generally honest and are serving the public good. ',\n",
       " 'Do you agree or disagree with the following statement: vaccines are safe and protect children from disease.',\n",
       " 'How many books, if any, have you read in the past year?',\n",
       " 'Do you believe in ghosts?',\n",
       " 'What percentage of the federal budget would you estimate is spent on scientific research?',\n",
       " 'Is federal funding of scientific research too high, too low, or about right?',\n",
       " 'True or false: the earth is always farther away from the sun in the winter than in the summer.',\n",
       " 'If you had to choose: would you rather be smart and sad, or dumb and happy?',\n",
       " 'Do you think it is acceptable or unacceptable to urinate in the shower?')"
      ]
     },
     "execution_count": 9,
     "metadata": {},
     "output_type": "execute_result"
    }
   ],
   "source": [
    "cah.labels"
   ]
  },
  {
   "cell_type": "markdown",
   "metadata": {},
   "source": [
    "**c)** What type of variable (nominal categorical, ordinal categorical, discrete numerical, or continuous numerical) is `Income`? What about `Gender`? `Age`? `Age Range`?"
   ]
  },
  {
   "cell_type": "markdown",
   "metadata": {},
   "source": [
    "Income is Continuous Numerical. Gender is Nominal Categorical. Age is Discrete Numerical. Age Range is Ordinal Categorical."
   ]
  },
  {
   "cell_type": "markdown",
   "metadata": {},
   "source": [
    "**d)** Display the first row of `cah`. Then, display the first 5 rows of `cah`. "
   ]
  },
  {
   "cell_type": "code",
   "execution_count": 10,
   "metadata": {},
   "outputs": [
    {
     "data": {
      "text/html": [
       "<table border=\"1\" class=\"dataframe\">\n",
       "    <thead>\n",
       "        <tr>\n",
       "            <th>Income</th> <th>Gender</th> <th>Age</th> <th>Age Range</th> <th>Political Affiliation</th> <th>Do you approve or disapprove of how Donald Trump is handling his job as president?</th> <th>What is your highest level of education? </th> <th>What is your race?</th> <th>What is your marital status?</th> <th>What would you say is the likelihood that your current job will be entirely performed by robots or computers within the next decade?</th> <th>Do you believe that climate change is real and caused by people, real but not caused by people, or not real at all?</th> <th>How many Transformers movies have you seen? </th> <th>Do you agree or disagree with the following statement: scientists are generally honest and are serving the public good. </th> <th>Do you agree or disagree with the following statement: vaccines are safe and protect children from disease.</th> <th>How many books, if any, have you read in the past year?</th> <th>Do you believe in ghosts?</th> <th>What percentage of the federal budget would you estimate is spent on scientific research?</th> <th>Is federal funding of scientific research too high, too low, or about right?</th> <th>True or false: the earth is always farther away from the sun in the winter than in the summer.</th> <th>If you had to choose: would you rather be smart and sad, or dumb and happy?</th> <th>Do you think it is acceptable or unacceptable to urinate in the shower?</th>\n",
       "        </tr>\n",
       "    </thead>\n",
       "    <tbody>\n",
       "        <tr>\n",
       "            <td>68000 </td> <td>Female</td> <td>56  </td> <td>55-64    </td> <td>Democrat             </td> <td>Strongly disapprove                                                               </td> <td>High school                              </td> <td>Black             </td> <td>Single                      </td> <td>Unlikely                                                                                                                            </td> <td>DK/REF                                                                                                             </td> <td>0                                           </td> <td>Somewhat Agree                                                                                                          </td> <td>Somewhat Disagree                                                                                          </td> <td>6                                                      </td> <td>No                       </td> <td>90                                                                                       </td> <td>Too High                                                                    </td> <td>FALSE                                                                                         </td> <td>Smart and Sad                                                              </td> <td>Unacceptable                                                           </td>\n",
       "        </tr>\n",
       "    </tbody>\n",
       "</table>"
      ],
      "text/plain": [
       "Income | Gender | Age  | Age Range | Political Affiliation | Do you approve or disapprove of how Donald Trump is handling his job as president? | What is your highest level of education?  | What is your race? | What is your marital status? | What would you say is the likelihood that your current job will be entirely performed by robots or computers within the next decade? | Do you believe that climate change is real and caused by people, real but not caused by people, or not real at all? | How many Transformers movies have you seen?  | Do you agree or disagree with the following statement: scientists are generally honest and are serving the public good.  | Do you agree or disagree with the following statement: vaccines are safe and protect children from disease. | How many books, if any, have you read in the past year? | Do you believe in ghosts? | What percentage of the federal budget would you estimate is spent on scientific research? | Is federal funding of scientific research too high, too low, or about right? | True or false: the earth is always farther away from the sun in the winter than in the summer. | If you had to choose: would you rather be smart and sad, or dumb and happy? | Do you think it is acceptable or unacceptable to urinate in the shower?\n",
       "68000  | Female | 56   | 55-64     | Democrat              | Strongly disapprove                                                                | High school                               | Black              | Single                       | Unlikely                                                                                                                             | DK/REF                                                                                                              | 0                                            | Somewhat Agree                                                                                                           | Somewhat Disagree                                                                                           | 6                                                       | No                        | 90                                                                                        | Too High                                                                     | FALSE                                                                                          | Smart and Sad                                                               | Unacceptable"
      ]
     },
     "execution_count": 10,
     "metadata": {},
     "output_type": "execute_result"
    }
   ],
   "source": [
    "cah.take(0)"
   ]
  },
  {
   "cell_type": "code",
   "execution_count": 11,
   "metadata": {},
   "outputs": [
    {
     "data": {
      "text/html": [
       "<table border=\"1\" class=\"dataframe\">\n",
       "    <thead>\n",
       "        <tr>\n",
       "            <th>Income</th> <th>Gender</th> <th>Age</th> <th>Age Range</th> <th>Political Affiliation</th> <th>Do you approve or disapprove of how Donald Trump is handling his job as president?</th> <th>What is your highest level of education? </th> <th>What is your race?</th> <th>What is your marital status?</th> <th>What would you say is the likelihood that your current job will be entirely performed by robots or computers within the next decade?</th> <th>Do you believe that climate change is real and caused by people, real but not caused by people, or not real at all?</th> <th>How many Transformers movies have you seen? </th> <th>Do you agree or disagree with the following statement: scientists are generally honest and are serving the public good. </th> <th>Do you agree or disagree with the following statement: vaccines are safe and protect children from disease.</th> <th>How many books, if any, have you read in the past year?</th> <th>Do you believe in ghosts?</th> <th>What percentage of the federal budget would you estimate is spent on scientific research?</th> <th>Is federal funding of scientific research too high, too low, or about right?</th> <th>True or false: the earth is always farther away from the sun in the winter than in the summer.</th> <th>If you had to choose: would you rather be smart and sad, or dumb and happy?</th> <th>Do you think it is acceptable or unacceptable to urinate in the shower?</th>\n",
       "        </tr>\n",
       "    </thead>\n",
       "    <tbody>\n",
       "        <tr>\n",
       "            <td>68000 </td> <td>Female</td> <td>56  </td> <td>55-64    </td> <td>Democrat             </td> <td>Strongly disapprove                                                               </td> <td>High school                              </td> <td>Black             </td> <td>Single                      </td> <td>Unlikely                                                                                                                            </td> <td>DK/REF                                                                                                             </td> <td>0                                           </td> <td>Somewhat Agree                                                                                                          </td> <td>Somewhat Disagree                                                                                          </td> <td>6                                                      </td> <td>No                       </td> <td>90                                                                                       </td> <td>Too High                                                                    </td> <td>FALSE                                                                                         </td> <td>Smart and Sad                                                              </td> <td>Unacceptable                                                           </td>\n",
       "        </tr>\n",
       "        <tr>\n",
       "            <td>46000 </td> <td>Male  </td> <td>63  </td> <td>55-64    </td> <td>Independent          </td> <td>Somewhat Approve                                                                  </td> <td>Some college                             </td> <td>White             </td> <td>Married                     </td> <td>Unlikely                                                                                                                            </td> <td>Real but not Caused by People                                                                                      </td> <td>0                                           </td> <td>Somewhat Agree                                                                                                          </td> <td>Strongly Agree                                                                                             </td> <td>0                                                      </td> <td>No                       </td> <td>20                                                                                       </td> <td>About Right                                                                 </td> <td>TRUE                                                                                          </td> <td>Dumb and happy                                                             </td> <td>Acceptable                                                             </td>\n",
       "        </tr>\n",
       "        <tr>\n",
       "            <td>51000 </td> <td>Male  </td> <td>48  </td> <td>45-54    </td> <td>Republican           </td> <td>Strongly Approve                                                                  </td> <td>High school                              </td> <td>White             </td> <td>Divorced                    </td> <td>Unlikely                                                                                                                            </td> <td>Not Real At All                                                                                                    </td> <td>0                                           </td> <td>Somewhat Disagree                                                                                                       </td> <td>Somewhat Disagree                                                                                          </td> <td>1                                                      </td> <td>No                       </td> <td>10                                                                                       </td> <td>About Right                                                                 </td> <td>FALSE                                                                                         </td> <td>Dumb and happy                                                             </td> <td>Unacceptable                                                           </td>\n",
       "        </tr>\n",
       "        <tr>\n",
       "            <td>54000 </td> <td>Female</td> <td>64  </td> <td>55-64    </td> <td>Democrat             </td> <td>Strongly disapprove                                                               </td> <td>Some college                             </td> <td>White             </td> <td>Married                     </td> <td>DK/REF                                                                                                                              </td> <td>Real and Caused by People                                                                                          </td> <td>0                                           </td> <td>Strongly Agree                                                                                                          </td> <td>Strongly Agree                                                                                             </td> <td>15                                                     </td> <td>No                       </td> <td>1                                                                                        </td> <td>Too Low                                                                     </td> <td>TRUE                                                                                          </td> <td>Smart and Sad                                                              </td> <td>Unacceptable                                                           </td>\n",
       "        </tr>\n",
       "        <tr>\n",
       "            <td>83000 </td> <td>Male  </td> <td>61  </td> <td>55-64    </td> <td>Independent          </td> <td>Somewhat Approve                                                                  </td> <td>College degree                           </td> <td>White             </td> <td>Divorced                    </td> <td>Unlikely                                                                                                                            </td> <td>Real but not Caused by People                                                                                      </td> <td>0                                           </td> <td>Strongly Agree                                                                                                          </td> <td>Strongly Agree                                                                                             </td> <td>0                                                      </td> <td>Yes                      </td> <td>10                                                                                       </td> <td>About Right                                                                 </td> <td>TRUE                                                                                          </td> <td>Dumb and happy                                                             </td> <td>Unacceptable                                                           </td>\n",
       "        </tr>\n",
       "    </tbody>\n",
       "</table>\n",
       "<p>... (305 rows omitted)</p>"
      ],
      "text/plain": [
       "<IPython.core.display.HTML object>"
      ]
     },
     "metadata": {},
     "output_type": "display_data"
    }
   ],
   "source": [
    "cah.show(5)"
   ]
  },
  {
   "cell_type": "code",
   "execution_count": 12,
   "metadata": {},
   "outputs": [
    {
     "data": {
      "text/html": [
       "<table border=\"1\" class=\"dataframe\">\n",
       "    <thead>\n",
       "        <tr>\n",
       "            <th>Income</th> <th>Gender</th> <th>Age</th> <th>Age Range</th> <th>Political Affiliation</th> <th>Do you approve or disapprove of how Donald Trump is handling his job as president?</th> <th>What is your highest level of education? </th> <th>What is your race?</th> <th>What is your marital status?</th> <th>What would you say is the likelihood that your current job will be entirely performed by robots or computers within the next decade?</th> <th>Do you believe that climate change is real and caused by people, real but not caused by people, or not real at all?</th> <th>How many Transformers movies have you seen? </th> <th>Do you agree or disagree with the following statement: scientists are generally honest and are serving the public good. </th> <th>Do you agree or disagree with the following statement: vaccines are safe and protect children from disease.</th> <th>How many books, if any, have you read in the past year?</th> <th>Do you believe in ghosts?</th> <th>What percentage of the federal budget would you estimate is spent on scientific research?</th> <th>Is federal funding of scientific research too high, too low, or about right?</th> <th>True or false: the earth is always farther away from the sun in the winter than in the summer.</th> <th>If you had to choose: would you rather be smart and sad, or dumb and happy?</th> <th>Do you think it is acceptable or unacceptable to urinate in the shower?</th>\n",
       "        </tr>\n",
       "    </thead>\n",
       "    <tbody>\n",
       "        <tr>\n",
       "            <td>68000 </td> <td>Female</td> <td>56  </td> <td>55-64    </td> <td>Democrat             </td> <td>Strongly disapprove                                                               </td> <td>High school                              </td> <td>Black             </td> <td>Single                      </td> <td>Unlikely                                                                                                                            </td> <td>DK/REF                                                                                                             </td> <td>0                                           </td> <td>Somewhat Agree                                                                                                          </td> <td>Somewhat Disagree                                                                                          </td> <td>6                                                      </td> <td>No                       </td> <td>90                                                                                       </td> <td>Too High                                                                    </td> <td>FALSE                                                                                         </td> <td>Smart and Sad                                                              </td> <td>Unacceptable                                                           </td>\n",
       "        </tr>\n",
       "        <tr>\n",
       "            <td>46000 </td> <td>Male  </td> <td>63  </td> <td>55-64    </td> <td>Independent          </td> <td>Somewhat Approve                                                                  </td> <td>Some college                             </td> <td>White             </td> <td>Married                     </td> <td>Unlikely                                                                                                                            </td> <td>Real but not Caused by People                                                                                      </td> <td>0                                           </td> <td>Somewhat Agree                                                                                                          </td> <td>Strongly Agree                                                                                             </td> <td>0                                                      </td> <td>No                       </td> <td>20                                                                                       </td> <td>About Right                                                                 </td> <td>TRUE                                                                                          </td> <td>Dumb and happy                                                             </td> <td>Acceptable                                                             </td>\n",
       "        </tr>\n",
       "        <tr>\n",
       "            <td>51000 </td> <td>Male  </td> <td>48  </td> <td>45-54    </td> <td>Republican           </td> <td>Strongly Approve                                                                  </td> <td>High school                              </td> <td>White             </td> <td>Divorced                    </td> <td>Unlikely                                                                                                                            </td> <td>Not Real At All                                                                                                    </td> <td>0                                           </td> <td>Somewhat Disagree                                                                                                       </td> <td>Somewhat Disagree                                                                                          </td> <td>1                                                      </td> <td>No                       </td> <td>10                                                                                       </td> <td>About Right                                                                 </td> <td>FALSE                                                                                         </td> <td>Dumb and happy                                                             </td> <td>Unacceptable                                                           </td>\n",
       "        </tr>\n",
       "        <tr>\n",
       "            <td>54000 </td> <td>Female</td> <td>64  </td> <td>55-64    </td> <td>Democrat             </td> <td>Strongly disapprove                                                               </td> <td>Some college                             </td> <td>White             </td> <td>Married                     </td> <td>DK/REF                                                                                                                              </td> <td>Real and Caused by People                                                                                          </td> <td>0                                           </td> <td>Strongly Agree                                                                                                          </td> <td>Strongly Agree                                                                                             </td> <td>15                                                     </td> <td>No                       </td> <td>1                                                                                        </td> <td>Too Low                                                                     </td> <td>TRUE                                                                                          </td> <td>Smart and Sad                                                              </td> <td>Unacceptable                                                           </td>\n",
       "        </tr>\n",
       "        <tr>\n",
       "            <td>83000 </td> <td>Male  </td> <td>61  </td> <td>55-64    </td> <td>Independent          </td> <td>Somewhat Approve                                                                  </td> <td>College degree                           </td> <td>White             </td> <td>Divorced                    </td> <td>Unlikely                                                                                                                            </td> <td>Real but not Caused by People                                                                                      </td> <td>0                                           </td> <td>Strongly Agree                                                                                                          </td> <td>Strongly Agree                                                                                             </td> <td>0                                                      </td> <td>Yes                      </td> <td>10                                                                                       </td> <td>About Right                                                                 </td> <td>TRUE                                                                                          </td> <td>Dumb and happy                                                             </td> <td>Unacceptable                                                           </td>\n",
       "        </tr>\n",
       "    </tbody>\n",
       "</table>"
      ],
      "text/plain": [
       "Income | Gender | Age  | Age Range | Political Affiliation | Do you approve or disapprove of how Donald Trump is handling his job as president? | What is your highest level of education?  | What is your race? | What is your marital status? | What would you say is the likelihood that your current job will be entirely performed by robots or computers within the next decade? | Do you believe that climate change is real and caused by people, real but not caused by people, or not real at all? | How many Transformers movies have you seen?  | Do you agree or disagree with the following statement: scientists are generally honest and are serving the public good.  | Do you agree or disagree with the following statement: vaccines are safe and protect children from disease. | How many books, if any, have you read in the past year? | Do you believe in ghosts? | What percentage of the federal budget would you estimate is spent on scientific research? | Is federal funding of scientific research too high, too low, or about right? | True or false: the earth is always farther away from the sun in the winter than in the summer. | If you had to choose: would you rather be smart and sad, or dumb and happy? | Do you think it is acceptable or unacceptable to urinate in the shower?\n",
       "68000  | Female | 56   | 55-64     | Democrat              | Strongly disapprove                                                                | High school                               | Black              | Single                       | Unlikely                                                                                                                             | DK/REF                                                                                                              | 0                                            | Somewhat Agree                                                                                                           | Somewhat Disagree                                                                                           | 6                                                       | No                        | 90                                                                                        | Too High                                                                     | FALSE                                                                                          | Smart and Sad                                                               | Unacceptable\n",
       "46000  | Male   | 63   | 55-64     | Independent           | Somewhat Approve                                                                   | Some college                              | White              | Married                      | Unlikely                                                                                                                             | Real but not Caused by People                                                                                       | 0                                            | Somewhat Agree                                                                                                           | Strongly Agree                                                                                              | 0                                                       | No                        | 20                                                                                        | About Right                                                                  | TRUE                                                                                           | Dumb and happy                                                              | Acceptable\n",
       "51000  | Male   | 48   | 45-54     | Republican            | Strongly Approve                                                                   | High school                               | White              | Divorced                     | Unlikely                                                                                                                             | Not Real At All                                                                                                     | 0                                            | Somewhat Disagree                                                                                                        | Somewhat Disagree                                                                                           | 1                                                       | No                        | 10                                                                                        | About Right                                                                  | FALSE                                                                                          | Dumb and happy                                                              | Unacceptable\n",
       "54000  | Female | 64   | 55-64     | Democrat              | Strongly disapprove                                                                | Some college                              | White              | Married                      | DK/REF                                                                                                                               | Real and Caused by People                                                                                           | 0                                            | Strongly Agree                                                                                                           | Strongly Agree                                                                                              | 15                                                      | No                        | 1                                                                                         | Too Low                                                                      | TRUE                                                                                           | Smart and Sad                                                               | Unacceptable\n",
       "83000  | Male   | 61   | 55-64     | Independent           | Somewhat Approve                                                                   | College degree                            | White              | Divorced                     | Unlikely                                                                                                                             | Real but not Caused by People                                                                                       | 0                                            | Strongly Agree                                                                                                           | Strongly Agree                                                                                              | 0                                                       | Yes                       | 10                                                                                        | About Right                                                                  | TRUE                                                                                           | Dumb and happy                                                              | Unacceptable"
      ]
     },
     "execution_count": 12,
     "metadata": {},
     "output_type": "execute_result"
    }
   ],
   "source": [
    "# Alternatively, to display the top 5, you can use the following\n",
    "\n",
    "cah.take(np.arange(5))"
   ]
  },
  {
   "cell_type": "markdown",
   "metadata": {},
   "source": [
    "**e)** Display the rows of the people with the top 5 incomes."
   ]
  },
  {
   "cell_type": "code",
   "execution_count": 13,
   "metadata": {},
   "outputs": [
    {
     "data": {
      "text/html": [
       "<table border=\"1\" class=\"dataframe\">\n",
       "    <thead>\n",
       "        <tr>\n",
       "            <th>Income</th> <th>Gender</th> <th>Age</th> <th>Age Range</th> <th>Political Affiliation</th> <th>Do you approve or disapprove of how Donald Trump is handling his job as president?</th> <th>What is your highest level of education? </th> <th>What is your race?</th> <th>What is your marital status?</th> <th>What would you say is the likelihood that your current job will be entirely performed by robots or computers within the next decade?</th> <th>Do you believe that climate change is real and caused by people, real but not caused by people, or not real at all?</th> <th>How many Transformers movies have you seen? </th> <th>Do you agree or disagree with the following statement: scientists are generally honest and are serving the public good. </th> <th>Do you agree or disagree with the following statement: vaccines are safe and protect children from disease.</th> <th>How many books, if any, have you read in the past year?</th> <th>Do you believe in ghosts?</th> <th>What percentage of the federal budget would you estimate is spent on scientific research?</th> <th>Is federal funding of scientific research too high, too low, or about right?</th> <th>True or false: the earth is always farther away from the sun in the winter than in the summer.</th> <th>If you had to choose: would you rather be smart and sad, or dumb and happy?</th> <th>Do you think it is acceptable or unacceptable to urinate in the shower?</th>\n",
       "        </tr>\n",
       "    </thead>\n",
       "    <tbody>\n",
       "        <tr>\n",
       "            <td>500000</td> <td>Female</td> <td>70  </td> <td>65+      </td> <td>Independent          </td> <td>Strongly disapprove                                                               </td> <td>Graduate degree                          </td> <td>White             </td> <td>Married                     </td> <td>Unlikely                                                                                                                            </td> <td>Real and Caused by People                                                                                          </td> <td>0                                           </td> <td>Strongly Agree                                                                                                          </td> <td>Strongly Agree                                                                                             </td> <td>10                                                     </td> <td>No                       </td> <td>12                                                                                       </td> <td>About Right                                                                 </td> <td>FALSE                                                                                         </td> <td>Smart and Sad                                                              </td> <td>DK/REF                                                                 </td>\n",
       "        </tr>\n",
       "        <tr>\n",
       "            <td>500000</td> <td>Male  </td> <td>42  </td> <td>35-44    </td> <td>Democrat             </td> <td>Strongly disapprove                                                               </td> <td>Graduate degree                          </td> <td>White             </td> <td>Married                     </td> <td>Unlikely                                                                                                                            </td> <td>Real and Caused by People                                                                                          </td> <td>0                                           </td> <td>Strongly Agree                                                                                                          </td> <td>Strongly Agree                                                                                             </td> <td>15                                                     </td> <td>No                       </td> <td>2                                                                                        </td> <td>Too Low                                                                     </td> <td>FALSE                                                                                         </td> <td>Smart and Sad                                                              </td> <td>Unacceptable                                                           </td>\n",
       "        </tr>\n",
       "        <tr>\n",
       "            <td>500000</td> <td>Male  </td> <td>46  </td> <td>45-54    </td> <td>Independent          </td> <td>Strongly disapprove                                                               </td> <td>College degree                           </td> <td>White             </td> <td>Married                     </td> <td>Unlikely                                                                                                                            </td> <td>Real and Caused by People                                                                                          </td> <td>1                                           </td> <td>Strongly Agree                                                                                                          </td> <td>Strongly Agree                                                                                             </td> <td>2                                                      </td> <td>Yes                      </td> <td>6                                                                                        </td> <td>Too Low                                                                     </td> <td>FALSE                                                                                         </td> <td>Smart and Sad                                                              </td> <td>Unacceptable                                                           </td>\n",
       "        </tr>\n",
       "        <tr>\n",
       "            <td>436000</td> <td>Male  </td> <td>55  </td> <td>55-64    </td> <td>Independent          </td> <td>Somewhat disapprove                                                               </td> <td>College degree                           </td> <td>Asian             </td> <td>Married                     </td> <td>Unlikely                                                                                                                            </td> <td>Real and Caused by People                                                                                          </td> <td>2                                           </td> <td>Somewhat Agree                                                                                                          </td> <td>Strongly Agree                                                                                             </td> <td>3                                                      </td> <td>Yes                      </td> <td>10                                                                                       </td> <td>Too Low                                                                     </td> <td>TRUE                                                                                          </td> <td>Dumb and happy                                                             </td> <td>Acceptable                                                             </td>\n",
       "        </tr>\n",
       "        <tr>\n",
       "            <td>422000</td> <td>Male  </td> <td>46  </td> <td>45-54    </td> <td>Independent          </td> <td>Strongly disapprove                                                               </td> <td>Graduate degree                          </td> <td>Black             </td> <td>Married                     </td> <td>Unlikely                                                                                                                            </td> <td>Real and Caused by People                                                                                          </td> <td>1                                           </td> <td>Strongly Agree                                                                                                          </td> <td>Somewhat Agree                                                                                             </td> <td>10                                                     </td> <td>No                       </td> <td>5                                                                                        </td> <td>About Right                                                                 </td> <td>TRUE                                                                                          </td> <td>Smart and Sad                                                              </td> <td>Unacceptable                                                           </td>\n",
       "        </tr>\n",
       "    </tbody>\n",
       "</table>\n",
       "<p>... (305 rows omitted)</p>"
      ],
      "text/plain": [
       "<IPython.core.display.HTML object>"
      ]
     },
     "metadata": {},
     "output_type": "display_data"
    }
   ],
   "source": [
    "cah.sort('Income', descending=True).show(5)"
   ]
  },
  {
   "cell_type": "code",
   "execution_count": 14,
   "metadata": {},
   "outputs": [
    {
     "data": {
      "text/html": [
       "<table border=\"1\" class=\"dataframe\">\n",
       "    <thead>\n",
       "        <tr>\n",
       "            <th>Income</th> <th>Gender</th> <th>Age</th> <th>Age Range</th> <th>Political Affiliation</th> <th>Do you approve or disapprove of how Donald Trump is handling his job as president?</th> <th>What is your highest level of education? </th> <th>What is your race?</th> <th>What is your marital status?</th> <th>What would you say is the likelihood that your current job will be entirely performed by robots or computers within the next decade?</th> <th>Do you believe that climate change is real and caused by people, real but not caused by people, or not real at all?</th> <th>How many Transformers movies have you seen? </th> <th>Do you agree or disagree with the following statement: scientists are generally honest and are serving the public good. </th> <th>Do you agree or disagree with the following statement: vaccines are safe and protect children from disease.</th> <th>How many books, if any, have you read in the past year?</th> <th>Do you believe in ghosts?</th> <th>What percentage of the federal budget would you estimate is spent on scientific research?</th> <th>Is federal funding of scientific research too high, too low, or about right?</th> <th>True or false: the earth is always farther away from the sun in the winter than in the summer.</th> <th>If you had to choose: would you rather be smart and sad, or dumb and happy?</th> <th>Do you think it is acceptable or unacceptable to urinate in the shower?</th>\n",
       "        </tr>\n",
       "    </thead>\n",
       "    <tbody>\n",
       "        <tr>\n",
       "            <td>500000</td> <td>Female</td> <td>70  </td> <td>65+      </td> <td>Independent          </td> <td>Strongly disapprove                                                               </td> <td>Graduate degree                          </td> <td>White             </td> <td>Married                     </td> <td>Unlikely                                                                                                                            </td> <td>Real and Caused by People                                                                                          </td> <td>0                                           </td> <td>Strongly Agree                                                                                                          </td> <td>Strongly Agree                                                                                             </td> <td>10                                                     </td> <td>No                       </td> <td>12                                                                                       </td> <td>About Right                                                                 </td> <td>FALSE                                                                                         </td> <td>Smart and Sad                                                              </td> <td>DK/REF                                                                 </td>\n",
       "        </tr>\n",
       "        <tr>\n",
       "            <td>500000</td> <td>Male  </td> <td>42  </td> <td>35-44    </td> <td>Democrat             </td> <td>Strongly disapprove                                                               </td> <td>Graduate degree                          </td> <td>White             </td> <td>Married                     </td> <td>Unlikely                                                                                                                            </td> <td>Real and Caused by People                                                                                          </td> <td>0                                           </td> <td>Strongly Agree                                                                                                          </td> <td>Strongly Agree                                                                                             </td> <td>15                                                     </td> <td>No                       </td> <td>2                                                                                        </td> <td>Too Low                                                                     </td> <td>FALSE                                                                                         </td> <td>Smart and Sad                                                              </td> <td>Unacceptable                                                           </td>\n",
       "        </tr>\n",
       "        <tr>\n",
       "            <td>500000</td> <td>Male  </td> <td>46  </td> <td>45-54    </td> <td>Independent          </td> <td>Strongly disapprove                                                               </td> <td>College degree                           </td> <td>White             </td> <td>Married                     </td> <td>Unlikely                                                                                                                            </td> <td>Real and Caused by People                                                                                          </td> <td>1                                           </td> <td>Strongly Agree                                                                                                          </td> <td>Strongly Agree                                                                                             </td> <td>2                                                      </td> <td>Yes                      </td> <td>6                                                                                        </td> <td>Too Low                                                                     </td> <td>FALSE                                                                                         </td> <td>Smart and Sad                                                              </td> <td>Unacceptable                                                           </td>\n",
       "        </tr>\n",
       "        <tr>\n",
       "            <td>436000</td> <td>Male  </td> <td>55  </td> <td>55-64    </td> <td>Independent          </td> <td>Somewhat disapprove                                                               </td> <td>College degree                           </td> <td>Asian             </td> <td>Married                     </td> <td>Unlikely                                                                                                                            </td> <td>Real and Caused by People                                                                                          </td> <td>2                                           </td> <td>Somewhat Agree                                                                                                          </td> <td>Strongly Agree                                                                                             </td> <td>3                                                      </td> <td>Yes                      </td> <td>10                                                                                       </td> <td>Too Low                                                                     </td> <td>TRUE                                                                                          </td> <td>Dumb and happy                                                             </td> <td>Acceptable                                                             </td>\n",
       "        </tr>\n",
       "        <tr>\n",
       "            <td>422000</td> <td>Male  </td> <td>46  </td> <td>45-54    </td> <td>Independent          </td> <td>Strongly disapprove                                                               </td> <td>Graduate degree                          </td> <td>Black             </td> <td>Married                     </td> <td>Unlikely                                                                                                                            </td> <td>Real and Caused by People                                                                                          </td> <td>1                                           </td> <td>Strongly Agree                                                                                                          </td> <td>Somewhat Agree                                                                                             </td> <td>10                                                     </td> <td>No                       </td> <td>5                                                                                        </td> <td>About Right                                                                 </td> <td>TRUE                                                                                          </td> <td>Smart and Sad                                                              </td> <td>Unacceptable                                                           </td>\n",
       "        </tr>\n",
       "    </tbody>\n",
       "</table>"
      ],
      "text/plain": [
       "Income | Gender | Age  | Age Range | Political Affiliation | Do you approve or disapprove of how Donald Trump is handling his job as president? | What is your highest level of education?  | What is your race? | What is your marital status? | What would you say is the likelihood that your current job will be entirely performed by robots or computers within the next decade? | Do you believe that climate change is real and caused by people, real but not caused by people, or not real at all? | How many Transformers movies have you seen?  | Do you agree or disagree with the following statement: scientists are generally honest and are serving the public good.  | Do you agree or disagree with the following statement: vaccines are safe and protect children from disease. | How many books, if any, have you read in the past year? | Do you believe in ghosts? | What percentage of the federal budget would you estimate is spent on scientific research? | Is federal funding of scientific research too high, too low, or about right? | True or false: the earth is always farther away from the sun in the winter than in the summer. | If you had to choose: would you rather be smart and sad, or dumb and happy? | Do you think it is acceptable or unacceptable to urinate in the shower?\n",
       "500000 | Female | 70   | 65+       | Independent           | Strongly disapprove                                                                | Graduate degree                           | White              | Married                      | Unlikely                                                                                                                             | Real and Caused by People                                                                                           | 0                                            | Strongly Agree                                                                                                           | Strongly Agree                                                                                              | 10                                                      | No                        | 12                                                                                        | About Right                                                                  | FALSE                                                                                          | Smart and Sad                                                               | DK/REF\n",
       "500000 | Male   | 42   | 35-44     | Democrat              | Strongly disapprove                                                                | Graduate degree                           | White              | Married                      | Unlikely                                                                                                                             | Real and Caused by People                                                                                           | 0                                            | Strongly Agree                                                                                                           | Strongly Agree                                                                                              | 15                                                      | No                        | 2                                                                                         | Too Low                                                                      | FALSE                                                                                          | Smart and Sad                                                               | Unacceptable\n",
       "500000 | Male   | 46   | 45-54     | Independent           | Strongly disapprove                                                                | College degree                            | White              | Married                      | Unlikely                                                                                                                             | Real and Caused by People                                                                                           | 1                                            | Strongly Agree                                                                                                           | Strongly Agree                                                                                              | 2                                                       | Yes                       | 6                                                                                         | Too Low                                                                      | FALSE                                                                                          | Smart and Sad                                                               | Unacceptable\n",
       "436000 | Male   | 55   | 55-64     | Independent           | Somewhat disapprove                                                                | College degree                            | Asian              | Married                      | Unlikely                                                                                                                             | Real and Caused by People                                                                                           | 2                                            | Somewhat Agree                                                                                                           | Strongly Agree                                                                                              | 3                                                       | Yes                       | 10                                                                                        | Too Low                                                                      | TRUE                                                                                           | Dumb and happy                                                              | Acceptable\n",
       "422000 | Male   | 46   | 45-54     | Independent           | Strongly disapprove                                                                | Graduate degree                           | Black              | Married                      | Unlikely                                                                                                                             | Real and Caused by People                                                                                           | 1                                            | Strongly Agree                                                                                                           | Somewhat Agree                                                                                              | 10                                                      | No                        | 5                                                                                         | About Right                                                                  | TRUE                                                                                           | Smart and Sad                                                               | Unacceptable"
      ]
     },
     "execution_count": 14,
     "metadata": {},
     "output_type": "execute_result"
    }
   ],
   "source": [
    "# Alternatively\n",
    "\n",
    "cah.sort('Income', descending=True).take(np.arange(5))"
   ]
  },
  {
   "cell_type": "markdown",
   "metadata": {},
   "source": [
    "### Question 5. Survey Development (Class activity)"
   ]
  },
  {
   "cell_type": "markdown",
   "metadata": {},
   "source": [
    "##### Take the survey that we developed in class. What are some things you might change about the survey? Consider factors such as survey length, response options, and types of questions. How might these affect your analysis of the data that you collect?"
   ]
  },
  {
   "cell_type": "markdown",
   "metadata": {},
   "source": [
    "Answers may vary. Here are some examples:\n",
    "- After taking the survey, you might feel the survey is too long. That is, there are too many questions, and you got tired or bored near the end, resulting in answers that may not be quite accurate.\n",
    "- There may be some multiple choice questions where you felt that the options were not sufficient. Maybe some of the choices were not mutually exclusive, or maybe you felt that none of the choices fit your actual answer.\n",
    "- Some questions may have been coded in a way that is not conducive to data analysis. For example, if you provided a 0-100 scale, how would you treat it? It is a scale, so you should approach it as a categorical variable, but that's a lot of categories to consider!\n",
    "- The wording on some questions may be confusing or misleading.\n",
    "- We used an online survey. You might prefer to do a different type of survey (for example, face-to-face interview, or phone interview). "
   ]
  }
 ],
 "metadata": {
  "kernelspec": {
   "display_name": "Python 3",
   "language": "python",
   "name": "python3"
  },
  "language_info": {
   "codemirror_mode": {
    "name": "ipython",
    "version": 3
   },
   "file_extension": ".py",
   "mimetype": "text/x-python",
   "name": "python",
   "nbconvert_exporter": "python",
   "pygments_lexer": "ipython3",
   "version": "3.7.2"
  },
  "toc": {
   "base_numbering": 1,
   "nav_menu": {},
   "number_sections": false,
   "sideBar": false,
   "skip_h1_title": false,
   "title_cell": "Table of Contents",
   "title_sidebar": "Contents",
   "toc_cell": false,
   "toc_position": {},
   "toc_section_display": false,
   "toc_window_display": false
  }
 },
 "nbformat": 4,
 "nbformat_minor": 2
}
